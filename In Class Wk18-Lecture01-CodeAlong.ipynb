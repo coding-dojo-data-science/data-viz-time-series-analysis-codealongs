{
 "cells": [
  {
   "cell_type": "markdown",
   "id": "25771c9c",
   "metadata": {},
   "source": [
    "# Wk18-Lecture01-CodeAlong: Preparing Time Series Data"
   ]
  },
  {
   "cell_type": "markdown",
   "id": "f20b0a55",
   "metadata": {},
   "source": [
    "## Learning Objectives"
   ]
  },
  {
   "cell_type": "markdown",
   "id": "df5eb627",
   "metadata": {},
   "source": [
    "- By the end of this CodeAlong, students will be able to:\n",
    "    - Create date time indices\n",
    "    - Resample at various frequencies\n",
    "    - Impute null values for time series \n",
    "    - Convert wide-form data to long-form\n",
    "    "
   ]
  },
  {
   "cell_type": "code",
   "execution_count": null,
   "id": "7dd25599",
   "metadata": {
    "ExecuteTime": {
     "end_time": "2023-08-22T17:05:53.410010Z",
     "start_time": "2023-08-22T17:05:52.120290Z"
    }
   },
   "outputs": [],
   "source": [
    "import pandas as pd\n",
    "import matplotlib.pyplot as plt\n",
    "import matplotlib.dates as mdates\n",
    "# import matplotlib.ticker as mticks\n",
    "\n",
    "import missingno as miss\n",
    "\n",
    "import seaborn as sns\n",
    "import numpy as np\n",
    "\n",
    "pd.set_option('display.float_format',lambda x:f\"{x:,.2f}\")"
   ]
  },
  {
   "cell_type": "code",
   "execution_count": null,
   "id": "7fc93259",
   "metadata": {
    "ExecuteTime": {
     "end_time": "2023-08-22T17:05:53.425967Z",
     "start_time": "2023-08-22T17:05:53.412004Z"
    }
   },
   "outputs": [],
   "source": [
    "sns.set_context('notebook', font_scale=0.9)\n",
    "plt.style.use(['ggplot'])"
   ]
  },
  {
   "cell_type": "markdown",
   "id": "ca7fe393",
   "metadata": {},
   "source": [
    "# Working with Time Series - Data with Regular Intervals"
   ]
  },
  {
   "cell_type": "markdown",
   "id": "2d927ed1",
   "metadata": {},
   "source": [
    "### Stock Data (S&P500)"
   ]
  },
  {
   "cell_type": "markdown",
   "id": "bfe9844e",
   "metadata": {},
   "source": [
    "- S&P 500 (Kibot) \n",
    "     - IVE S&P 500 1-min aggregate data from: http://www.kibot.com/free_historical_data.aspx"
   ]
  },
  {
   "cell_type": "code",
   "execution_count": null,
   "id": "23f17c51",
   "metadata": {
    "ExecuteTime": {
     "end_time": "2023-08-22T17:05:53.785567Z",
     "start_time": "2023-08-22T17:05:53.426965Z"
    }
   },
   "outputs": [],
   "source": [
    "sp500_min_df = pd.read_csv('Data/stocks/sp500_ive_min_tick_bidask.csv')\n",
    "sp500_min_df.head()"
   ]
  },
  {
   "cell_type": "code",
   "execution_count": null,
   "id": "174ba4f6",
   "metadata": {
    "ExecuteTime": {
     "end_time": "2023-08-22T17:05:53.893464Z",
     "start_time": "2023-08-22T17:05:53.787561Z"
    }
   },
   "outputs": [],
   "source": [
    "sp500_min_df.info()"
   ]
  },
  {
   "cell_type": "markdown",
   "id": "2ff54370",
   "metadata": {},
   "source": [
    "## <font color='blue'> Step 1: </font>Convert dates and times into a single column\n",
    "\n",
    "Combine date and time columns"
   ]
  },
  {
   "cell_type": "code",
   "execution_count": null,
   "id": "3e9b8e59",
   "metadata": {
    "ExecuteTime": {
     "end_time": "2023-08-22T17:06:04.491791Z",
     "start_time": "2023-08-22T17:06:04.407016Z"
    }
   },
   "outputs": [],
   "source": [
    "%%time\n",
    "\n",
    "## Combine 'Date' and 'Time' columns\n",
    "\n",
    "\n",
    "\n",
    "## Drop 'Date' and 'Time' columns\n",
    "\n"
   ]
  },
  {
   "cell_type": "markdown",
   "id": "8f9ef27c",
   "metadata": {},
   "source": [
    "## <font color='blue'> Step 2: </font> Convert Datetime column to <font color='green'> datetime </font> type with <font color='green'> pd.to_datetime </font>"
   ]
  },
  {
   "cell_type": "markdown",
   "id": "b86db93c",
   "metadata": {},
   "source": [
    "## Using pd.to_datetime (without strftime format codes)"
   ]
  },
  {
   "cell_type": "code",
   "execution_count": null,
   "id": "ae85093e",
   "metadata": {
    "ExecuteTime": {
     "end_time": "2023-08-22T17:06:48.573869Z",
     "start_time": "2023-08-22T17:06:13.070951Z"
    }
   },
   "outputs": [],
   "source": [
    "%%time\n",
    "## Make a datetime index using pd.to_datetime\n",
    "\n"
   ]
  },
  {
   "cell_type": "markdown",
   "id": "bf12bc99",
   "metadata": {},
   "source": [
    "- We can speed up the conversion by specifying the correct time format and setting `infer_datetime_format=False`"
   ]
  },
  {
   "cell_type": "markdown",
   "id": "d72446a9",
   "metadata": {},
   "source": [
    "## Using pd.to_datetime with strftime codes!\n",
    "\n",
    "- Datetime objects have a `.strftime()` method (string-format-time)\n",
    "\n",
    "- 📖 **strftime cheat sheet: https://strftime.org/**\n",
    "- 📖 **Official Table of Python datetime format codes: https://docs.python.org/3/library/datetime.html#strftime-and-strptime-format-codes **\n",
    "\n",
    "\n",
    "| Directive   | Meaning                                                                                                                                                                          | Example                                                                      |\n",
    "|:------------|:---------------------------------------------------------------------------------------------------------------------------------------------------------------------------------|:-----------------------------------------------------------------------------|\n",
    "| %a          | Weekday as locale’s abbreviated name.                                                                                                                                            | Sun, Mon, …, Sat (en_US); So, Mo, …, Sa (de_DE)                              |\n",
    "| %A          | Weekday as locale’s full name.                                                                                                                                                   | Sunday, Monday, …, Saturday (en_US); Sonntag, Montag, …, Samstag (de_DE)     |\n",
    "| %w          | Weekday as a decimal number, where 0 is Sunday and 6 is Saturday.                                                                                                                | 0, 1, …, 6                                                                   |\n",
    "| %d          | Day of the month as a zero-padded decimal number.                                                                                                                                | 01, 02, …, 31                                                                |\n",
    "| %b          | Month as locale’s abbreviated name.                                                                                                                                              | Jan, Feb, …, Dec (en_US); Jan, Feb, …, Dez (de_DE)                           |\n",
    "| %B          | Month as locale’s full name.                                                                                                                                                     | January, February, …, December (en_US); Januar, Februar, …, Dezember (de_DE) |\n",
    "| %m          | Month as a zero-padded decimal number.                                                                                                                                           | 01, 02, …, 12                                                                |\n",
    "| %y          | Year without century as a zero-padded decimal number.                                                                                                                            | 00, 01, …, 99                                                                |\n",
    "| %Y          | Year with century as a decimal number.                                                                                                                                           | 0001, 0002, …, 2013, 2014, …, 9998, 9999                                     |\n",
    "| %H          | Hour (24-hour clock) as a zero-padded decimal number.                                                                                                                            | 00, 01, …, 23                                                                |\n",
    "| %I          | Hour (12-hour clock) as a zero-padded decimal number.                                                                                                                            | 01, 02, …, 12                                                                |\n",
    "| %p          | Locale’s equivalent of either AM or PM.                                                                                                                                          | AM, PM (en_US); am, pm (de_DE)                                               |\n",
    "| %M          | Minute as a zero-padded decimal number.                                                                                                                                          | 00, 01, …, 59                                                                |\n",
    "| %S          | Second as a zero-padded decimal number.                                                                                                                                          | 00, 01, …, 59                                                                |\n",
    "| %f          | Microsecond as a decimal number, zero-padded to 6 digits.                                                                                                                        | 000000, 000001, …, 999999                                                    |\n",
    "| %z          | UTC offset in the form ±HHMM[SS[.ffffff]] (empty string if the object is naive).                                                                                                 | (empty), +0000, -0400, +1030, +063415, -030712.345216                        |\n",
    "| %Z          | Time zone name (empty string if the object is naive).                                                                                                                            | (empty), UTC, GMT                                                            |\n",
    "| %j          | Day of the year as a zero-padded decimal number.                                                                                                                                 | 001, 002, …, 366                                                             |\n",
    "| %U          | Week number of the year (Sunday as the first day of the week) as a zero-padded decimal number. All days in a new year preceding the first Sunday are considered to be in week 0. | 00, 01, …, 53                                                                |\n",
    "| %W          | Week number of the year (Monday as the first day of the week) as a zero-padded decimal number. All days in a new year preceding the first Monday are considered to be in week 0. | 00, 01, …, 53                                                                |\n",
    "| %c          | Locale’s appropriate date and time representation.                                                                                                                               | Tue Aug 16 21:30:00 1988 (en_US); Di 16 Aug 21:30:00 1988 (de_DE)            |\n",
    "| %x          | Locale’s appropriate date representation.                                                                                                                                        | 08/16/88 (None); 08/16/1988 (en_US); 16.08.1988 (de_DE)                      |\n",
    "| %X          | Locale’s appropriate time representation.                                                                                                                                        | 21:30:00 (en_US); 21:30:00 (de_DE)                                           |\n",
    "| %%          | A literal '%' character.                                                                                                                                                         | %                                                                            |"
   ]
  },
  {
   "cell_type": "code",
   "execution_count": null,
   "id": "9faf4a2e",
   "metadata": {
    "ExecuteTime": {
     "end_time": "2023-08-22T17:08:32.597332Z",
     "start_time": "2023-08-22T17:08:32.582346Z"
    }
   },
   "outputs": [],
   "source": [
    "## Creating/testing our time format\n",
    "import datetime\n",
    "today_datetime = datetime.datetime.today()\n",
    "\n",
    "fmt = ##\n",
    "\n",
    "## Test Format\n"
   ]
  },
  {
   "cell_type": "code",
   "execution_count": null,
   "id": "5c9e3e48-c7a0-41c0-893d-ffb57dc7a363",
   "metadata": {},
   "outputs": [],
   "source": [
    "## Compare to dates in dataframe\n"
   ]
  },
  {
   "cell_type": "code",
   "execution_count": null,
   "id": "ceaf9be6",
   "metadata": {
    "ExecuteTime": {
     "end_time": "2023-08-22T17:09:02.146426Z",
     "start_time": "2023-08-22T17:09:01.022456Z"
    }
   },
   "outputs": [],
   "source": [
    "%%time\n",
    "## Make a datetime index using pd.to_datetime & specifying the format  (to save gtime)\n",
    "\n"
   ]
  },
  {
   "cell_type": "markdown",
   "id": "f7a4427e",
   "metadata": {},
   "source": [
    "## <font color='blue'> Step 3: </font> Set Datetime as Index"
   ]
  },
  {
   "cell_type": "code",
   "execution_count": null,
   "id": "952aaf7e",
   "metadata": {
    "ExecuteTime": {
     "end_time": "2023-08-22T17:09:05.078771Z",
     "start_time": "2023-08-22T17:09:05.053838Z"
    }
   },
   "outputs": [],
   "source": [
    "## Setting the datetime index\n",
    "\n"
   ]
  },
  {
   "cell_type": "code",
   "execution_count": null,
   "id": "e6a52124",
   "metadata": {
    "ExecuteTime": {
     "end_time": "2023-08-01T22:06:54.265354Z",
     "start_time": "2023-08-01T22:06:54.251391Z"
    }
   },
   "outputs": [],
   "source": [
    "# check the index to confirm its datetime\n",
    "\n"
   ]
  },
  {
   "cell_type": "markdown",
   "id": "7414437a",
   "metadata": {},
   "source": [
    "🧠 Why is it useful to have the year first, month second, and day third?"
   ]
  },
  {
   "cell_type": "markdown",
   "id": "6f302904",
   "metadata": {},
   "source": [
    "### Keep only the closing prices"
   ]
  },
  {
   "cell_type": "code",
   "execution_count": null,
   "id": "6e6dfbd8",
   "metadata": {
    "ExecuteTime": {
     "end_time": "2023-08-01T22:06:54.250393Z",
     "start_time": "2023-08-01T22:06:54.236432Z"
    }
   },
   "outputs": [],
   "source": [
    "# Only keeping Closing Ask/Bid\n",
    "\n"
   ]
  },
  {
   "cell_type": "markdown",
   "id": "8854c40f",
   "metadata": {},
   "source": [
    "## 📈 Visualizing Our Time Series DataFrame"
   ]
  },
  {
   "cell_type": "code",
   "execution_count": null,
   "id": "6d3b7770",
   "metadata": {
    "ExecuteTime": {
     "end_time": "2023-08-01T22:06:56.077365Z",
     "start_time": "2023-08-01T22:06:54.266351Z"
    }
   },
   "outputs": [],
   "source": [
    "## let's visualize our dataframe \n",
    "\n"
   ]
  },
  {
   "cell_type": "markdown",
   "id": "9c362fc4",
   "metadata": {},
   "source": [
    "> Time series visualizations usually require wider figures. "
   ]
  },
  {
   "cell_type": "markdown",
   "id": "7524c068",
   "metadata": {},
   "source": [
    "### Changing Default Figure Size"
   ]
  },
  {
   "cell_type": "code",
   "execution_count": null,
   "id": "126a5fe1",
   "metadata": {
    "ExecuteTime": {
     "end_time": "2023-08-01T22:06:56.093325Z",
     "start_time": "2023-08-01T22:06:56.079363Z"
    }
   },
   "outputs": [],
   "source": [
    "# check default figsize in rcParams\n",
    "\n"
   ]
  },
  {
   "cell_type": "code",
   "execution_count": null,
   "id": "4e7f8f3f",
   "metadata": {
    "ExecuteTime": {
     "end_time": "2023-08-01T22:06:56.108703Z",
     "start_time": "2023-08-01T22:06:56.094319Z"
    }
   },
   "outputs": [],
   "source": [
    "## Change the default figure size to something wider (12,5)\n",
    "\n"
   ]
  },
  {
   "cell_type": "code",
   "execution_count": null,
   "id": "ad679855",
   "metadata": {
    "ExecuteTime": {
     "end_time": "2023-08-01T22:06:57.839065Z",
     "start_time": "2023-08-01T22:06:56.110662Z"
    }
   },
   "outputs": [],
   "source": [
    "## recreate the plot\n",
    "\n"
   ]
  },
  {
   "cell_type": "markdown",
   "id": "4a202b3d",
   "metadata": {},
   "source": [
    "## Datetime Index Superpowers: Slicing !"
   ]
  },
  {
   "cell_type": "code",
   "execution_count": null,
   "id": "ec678d41",
   "metadata": {
    "ExecuteTime": {
     "end_time": "2023-08-01T22:06:57.853997Z",
     "start_time": "2023-08-01T22:06:57.841080Z"
    }
   },
   "outputs": [],
   "source": [
    "## Get all/any dates from 2022\n",
    "\n"
   ]
  },
  {
   "cell_type": "code",
   "execution_count": null,
   "id": "b0122995",
   "metadata": {
    "ExecuteTime": {
     "end_time": "2023-08-01T22:06:57.883917Z",
     "start_time": "2023-08-01T22:06:57.860979Z"
    }
   },
   "outputs": [],
   "source": [
    "# Get all of january, 2022\n",
    "\n"
   ]
  },
  {
   "cell_type": "code",
   "execution_count": null,
   "id": "e30b641c",
   "metadata": {
    "ExecuteTime": {
     "end_time": "2023-08-01T22:06:57.913912Z",
     "start_time": "2023-08-01T22:06:57.884914Z"
    }
   },
   "outputs": [],
   "source": [
    "## Get January 01st, 2022 to March 16th 2022\n",
    "\n"
   ]
  },
  {
   "cell_type": "code",
   "execution_count": null,
   "id": "2c275e74",
   "metadata": {
    "ExecuteTime": {
     "end_time": "2023-08-01T22:06:57.928756Z",
     "start_time": "2023-08-01T22:06:57.914882Z"
    }
   },
   "outputs": [],
   "source": [
    "## Keep Jan. 1st, 2022, to March 16th, 2022\n",
    "\n",
    "\n"
   ]
  },
  {
   "cell_type": "markdown",
   "id": "ec5a4ffe",
   "metadata": {},
   "source": [
    "> Notice the earliest date is 2020-01-03"
   ]
  },
  {
   "cell_type": "code",
   "execution_count": null,
   "id": "d7b75b36",
   "metadata": {
    "ExecuteTime": {
     "end_time": "2023-08-01T22:06:57.943717Z",
     "start_time": "2023-08-01T22:06:57.929753Z"
    }
   },
   "outputs": [],
   "source": [
    "## Get just 01/03 - AskClose\n",
    "\n"
   ]
  },
  {
   "cell_type": "code",
   "execution_count": null,
   "id": "099cd69e",
   "metadata": {
    "ExecuteTime": {
     "end_time": "2023-08-01T22:06:58.292176Z",
     "start_time": "2023-08-01T22:06:57.977627Z"
    }
   },
   "outputs": [],
   "source": [
    "## saving new TS just for 2020, and just AskClose column\n",
    "\n"
   ]
  },
  {
   "cell_type": "code",
   "execution_count": null,
   "id": "786dd5b8",
   "metadata": {
    "ExecuteTime": {
     "end_time": "2023-08-01T22:06:58.308135Z",
     "start_time": "2023-08-01T22:06:58.293175Z"
    }
   },
   "outputs": [],
   "source": [
    "## Slicing out one week in March 2020, 3/20 to 3/28\n",
    "\n"
   ]
  },
  {
   "cell_type": "code",
   "execution_count": null,
   "id": "28f834c9",
   "metadata": {
    "ExecuteTime": {
     "end_time": "2023-08-01T22:06:58.569494Z",
     "start_time": "2023-08-01T22:06:58.310132Z"
    }
   },
   "outputs": [],
   "source": [
    "## Plot the week\n",
    "\n"
   ]
  },
  {
   "cell_type": "markdown",
   "id": "397d3214",
   "metadata": {},
   "source": [
    "#### 🧠 Why are there gaps in the data above?"
   ]
  },
  {
   "cell_type": "code",
   "execution_count": null,
   "id": "7ed21083-0a29-4430-8170-303ece0c08e0",
   "metadata": {},
   "outputs": [],
   "source": [
    "## Check values for missing day\n"
   ]
  },
  {
   "cell_type": "code",
   "execution_count": null,
   "id": "5a6952a2",
   "metadata": {
    "ExecuteTime": {
     "end_time": "2023-08-01T22:06:58.584338Z",
     "start_time": "2023-08-01T22:06:58.570491Z"
    }
   },
   "outputs": [],
   "source": [
    "## There are no null values in the ts var...\n",
    "\n"
   ]
  },
  {
   "cell_type": "markdown",
   "id": "fdcdfbf6",
   "metadata": {},
   "source": [
    "> What day of the week were the days missing data?"
   ]
  },
  {
   "cell_type": "code",
   "execution_count": null,
   "id": "5f872a99",
   "metadata": {
    "ExecuteTime": {
     "end_time": "2023-08-01T22:06:58.600316Z",
     "start_time": "2023-08-01T22:06:58.585390Z"
    }
   },
   "outputs": [],
   "source": [
    "## what days of the week were the days missing data?\n",
    "\n"
   ]
  },
  {
   "cell_type": "markdown",
   "id": "317d0218",
   "metadata": {},
   "source": [
    "## <font color='blue'> Step 4: </font>Resampling to Desired Frequency"
   ]
  },
  {
   "cell_type": "markdown",
   "id": "217f797a",
   "metadata": {},
   "source": [
    "### Pandas Frequency Codes\n",
    "\n",
    "![pandas frequency codes](pandas_freq_cheatsheet.png)"
   ]
  },
  {
   "cell_type": "code",
   "execution_count": null,
   "id": "868414ef",
   "metadata": {
    "ExecuteTime": {
     "end_time": "2023-08-01T22:06:58.632247Z",
     "start_time": "2023-08-01T22:06:58.617289Z"
    }
   },
   "outputs": [],
   "source": [
    "# what is our datetime index's frequency?\n",
    "\n"
   ]
  },
  {
   "cell_type": "code",
   "execution_count": null,
   "id": "9748c32c",
   "metadata": {
    "ExecuteTime": {
     "end_time": "2023-08-01T22:06:58.647208Z",
     "start_time": "2023-08-01T22:06:58.634243Z"
    }
   },
   "outputs": [],
   "source": [
    "# Resample as last value of each minute\n",
    "\n",
    "## Check sample of values\n",
    "\n",
    "## Check index\n"
   ]
  },
  {
   "cell_type": "code",
   "execution_count": null,
   "id": "4bac83ad",
   "metadata": {
    "ExecuteTime": {
     "end_time": "2023-08-01T22:06:58.678125Z",
     "start_time": "2023-08-01T22:06:58.664164Z"
    }
   },
   "outputs": [],
   "source": [
    "## What is the orginal shape?\n",
    "\n",
    "\n"
   ]
  },
  {
   "cell_type": "code",
   "execution_count": null,
   "id": "1323fb7e",
   "metadata": {
    "ExecuteTime": {
     "end_time": "2023-08-01T22:06:58.694083Z",
     "start_time": "2023-08-01T22:06:58.679124Z"
    }
   },
   "outputs": [],
   "source": [
    "## What is the original NaN count?\n",
    "\n",
    "\n"
   ]
  },
  {
   "cell_type": "code",
   "execution_count": null,
   "id": "ca172a3e",
   "metadata": {
    "ExecuteTime": {
     "end_time": "2023-08-01T22:06:58.710040Z",
     "start_time": "2023-08-01T22:06:58.695081Z"
    }
   },
   "outputs": [],
   "source": [
    "## What is the new resampled shape?\n",
    "\n",
    "\n"
   ]
  },
  {
   "cell_type": "code",
   "execution_count": null,
   "id": "8fa358ff",
   "metadata": {
    "ExecuteTime": {
     "end_time": "2023-08-01T22:06:58.725998Z",
     "start_time": "2023-08-01T22:06:58.711039Z"
    }
   },
   "outputs": [],
   "source": [
    "## How many NaNs in the resampled data?\n",
    "\n",
    "\n"
   ]
  },
  {
   "cell_type": "code",
   "execution_count": null,
   "id": "9027cddb",
   "metadata": {
    "ExecuteTime": {
     "end_time": "2023-08-01T22:06:59.128726Z",
     "start_time": "2023-08-01T22:06:58.726995Z"
    }
   },
   "outputs": [],
   "source": [
    "# Plot resampled data\n",
    "\n"
   ]
  },
  {
   "cell_type": "markdown",
   "id": "fd41f469",
   "metadata": {},
   "source": [
    "## <font color='blue'> Step 5: </font>Imputing Null Values (time series style!)"
   ]
  },
  {
   "cell_type": "code",
   "execution_count": null,
   "id": "55bacea6",
   "metadata": {
    "ExecuteTime": {
     "end_time": "2023-08-01T22:06:59.391899Z",
     "start_time": "2023-08-01T22:06:59.129696Z"
    }
   },
   "outputs": [],
   "source": [
    "# Fill with back fill\n",
    "\n",
    "\n",
    "#plot backfilled data\n",
    "ax = ts_bfill.plot(style='.-')\n",
    "ax.axvspan('2020-03-21','2020-03-23',alpha=0.5)\n",
    "ax.set(title='bfill', ylabel=\"Stock Price\");"
   ]
  },
  {
   "cell_type": "code",
   "execution_count": null,
   "id": "d181e291",
   "metadata": {
    "ExecuteTime": {
     "end_time": "2023-08-01T22:06:59.652619Z",
     "start_time": "2023-08-01T22:06:59.392908Z"
    }
   },
   "outputs": [],
   "source": [
    "# Fill with forward fill\n",
    "\n",
    "\n",
    "#plot forward data\n",
    "ax = ts_ffill.plot(style='.-')\n",
    "ax.axvspan('2020-03-21','2020-03-23',alpha=0.5)\n",
    "ax.set(title='ffill', ylabel=\"Stock Price\");"
   ]
  },
  {
   "cell_type": "code",
   "execution_count": null,
   "id": "e1d0a667",
   "metadata": {
    "ExecuteTime": {
     "end_time": "2023-08-01T22:06:59.927573Z",
     "start_time": "2023-08-01T22:06:59.654234Z"
    }
   },
   "outputs": [],
   "source": [
    "# Interpolate missing data\n",
    "\n",
    "\n",
    "# Plot interpolated data\n",
    "ax = ts_interpolate.plot(style='.-')\n",
    "ax.axvspan('2020-03-21','2020-03-23',alpha=0.5)\n",
    "ax.set(title='interpolate', ylabel=\"Stock Price\");"
   ]
  },
  {
   "cell_type": "markdown",
   "id": "c2f34c35",
   "metadata": {},
   "source": [
    "# Working with Wide-Form Time Series Data\n",
    "\n",
    "## <font color='blue'> Step 1 </font>: Convert datetime to One Column"
   ]
  },
  {
   "cell_type": "code",
   "execution_count": null,
   "id": "62f836ca",
   "metadata": {
    "ExecuteTime": {
     "end_time": "2023-08-01T22:07:00.035284Z",
     "start_time": "2023-08-01T22:06:59.928570Z"
    }
   },
   "outputs": [],
   "source": [
    "crypto = pd.read_csv(\"../Data/stocks/wide-form-crypto.csv\")\n",
    "crypto"
   ]
  },
  {
   "cell_type": "code",
   "execution_count": null,
   "id": "c79e5650",
   "metadata": {
    "ExecuteTime": {
     "end_time": "2023-08-01T22:07:00.051242Z",
     "start_time": "2023-08-01T22:07:00.036282Z"
    }
   },
   "outputs": [],
   "source": [
    "## What are the ID columns?\n",
    "id_vars = ##\n",
    "id_vars"
   ]
  },
  {
   "cell_type": "code",
   "execution_count": null,
   "id": "6b74af60",
   "metadata": {
    "ExecuteTime": {
     "end_time": "2023-08-01T22:07:00.082789Z",
     "start_time": "2023-08-01T22:07:00.052240Z"
    }
   },
   "outputs": [],
   "source": [
    "## Melt the crypto data \n",
    "long_crypto = ##\n",
    "long_crypto"
   ]
  },
  {
   "cell_type": "markdown",
   "id": "0e713870",
   "metadata": {},
   "source": [
    "## <font color='blue'> Step 2: </font> Converting datetime Column to datetime Type"
   ]
  },
  {
   "cell_type": "code",
   "execution_count": null,
   "id": "908c1fa3",
   "metadata": {
    "ExecuteTime": {
     "end_time": "2023-08-01T22:07:00.098712Z",
     "start_time": "2023-08-01T22:07:00.083786Z"
    }
   },
   "outputs": [],
   "source": [
    "## Now make Date column datetime \n",
    "\n"
   ]
  },
  {
   "cell_type": "markdown",
   "id": "ad52a946",
   "metadata": {},
   "source": [
    "## <font color='blue'> Step 3: </font> Set datetime as Index"
   ]
  },
  {
   "cell_type": "code",
   "execution_count": null,
   "id": "f0a901b4",
   "metadata": {
    "ExecuteTime": {
     "end_time": "2023-08-01T22:07:00.113699Z",
     "start_time": "2023-08-01T22:07:00.099710Z"
    }
   },
   "outputs": [],
   "source": [
    "## Set Date as index\n",
    "\n"
   ]
  },
  {
   "cell_type": "code",
   "execution_count": null,
   "id": "615c84eb",
   "metadata": {
    "ExecuteTime": {
     "end_time": "2023-08-01T22:07:00.128631Z",
     "start_time": "2023-08-01T22:07:00.114668Z"
    }
   },
   "outputs": [],
   "source": [
    "## Check index for frequency\n",
    "\n"
   ]
  },
  {
   "cell_type": "markdown",
   "id": "fb490339",
   "metadata": {},
   "source": [
    "## <font color='blue'> Step 4: </font> Resample to Desired Frequency"
   ]
  },
  {
   "cell_type": "code",
   "execution_count": null,
   "id": "0bade8a7",
   "metadata": {
    "ExecuteTime": {
     "end_time": "2023-08-01T22:07:00.159815Z",
     "start_time": "2023-08-01T22:07:00.129628Z"
    }
   },
   "outputs": [],
   "source": [
    "# group by currency and resample as daily. Keep only 'Value' column\n",
    "\n",
    "crypto_ts"
   ]
  },
  {
   "cell_type": "code",
   "execution_count": null,
   "id": "a9da0637",
   "metadata": {
    "ExecuteTime": {
     "end_time": "2023-08-01T22:07:00.175772Z",
     "start_time": "2023-08-01T22:07:00.160812Z"
    }
   },
   "outputs": [],
   "source": [
    "type(crypto_ts)"
   ]
  },
  {
   "cell_type": "code",
   "execution_count": null,
   "id": "399ce6da",
   "metadata": {
    "ExecuteTime": {
     "end_time": "2023-08-01T22:07:00.190731Z",
     "start_time": "2023-08-01T22:07:00.176768Z"
    }
   },
   "outputs": [],
   "source": [
    "crypto_ts.index"
   ]
  },
  {
   "cell_type": "code",
   "execution_count": null,
   "id": "ffeda3c7",
   "metadata": {
    "ExecuteTime": {
     "end_time": "2023-08-01T22:07:00.363300Z",
     "start_time": "2023-08-01T22:07:00.192727Z"
    }
   },
   "outputs": [],
   "source": [
    "## Plot resampled data\n",
    "\n"
   ]
  },
  {
   "cell_type": "markdown",
   "id": "a4357b31",
   "metadata": {},
   "source": [
    "> What are we seeing?"
   ]
  },
  {
   "cell_type": "code",
   "execution_count": null,
   "id": "fcc1af99",
   "metadata": {
    "ExecuteTime": {
     "end_time": "2023-08-01T22:07:00.379280Z",
     "start_time": "2023-08-01T22:07:00.364268Z"
    }
   },
   "outputs": [],
   "source": [
    "## Inspect resampled data\n",
    "\n"
   ]
  },
  {
   "cell_type": "code",
   "execution_count": null,
   "id": "b4fa9bb0",
   "metadata": {
    "ExecuteTime": {
     "end_time": "2023-08-01T22:07:00.394633Z",
     "start_time": "2023-08-01T22:07:00.380278Z"
    }
   },
   "outputs": [],
   "source": [
    "## Unstack grouped data\n",
    "\n",
    "crypto_unstacked = ##\n",
    "crypto_unstacked"
   ]
  },
  {
   "cell_type": "code",
   "execution_count": null,
   "id": "9acd79fb",
   "metadata": {
    "ExecuteTime": {
     "end_time": "2023-08-01T22:07:00.709918Z",
     "start_time": "2023-08-01T22:07:00.395638Z"
    }
   },
   "outputs": [],
   "source": [
    "## Plot unstacked data\n",
    "\n"
   ]
  },
  {
   "cell_type": "markdown",
   "id": "da572491",
   "metadata": {},
   "source": [
    "## Selecting our TS for Resampling Demonstration"
   ]
  },
  {
   "cell_type": "code",
   "execution_count": null,
   "id": "03d9746a",
   "metadata": {
    "ExecuteTime": {
     "end_time": "2023-08-01T22:07:00.725284Z",
     "start_time": "2023-08-01T22:07:00.710917Z"
    }
   },
   "outputs": [],
   "source": [
    "## Keep just bitcoin data from 2021 to 2022\n",
    "ts = ##\n",
    "ts"
   ]
  },
  {
   "cell_type": "code",
   "execution_count": null,
   "id": "8dc8b9e9",
   "metadata": {
    "ExecuteTime": {
     "end_time": "2023-08-01T22:07:00.930813Z",
     "start_time": "2023-08-01T22:07:00.727280Z"
    }
   },
   "outputs": [],
   "source": [
    "## Plot 2021-2022 bitcoin data\n",
    "\n"
   ]
  },
  {
   "cell_type": "markdown",
   "id": "a4020d95",
   "metadata": {},
   "source": [
    "## Resampling"
   ]
  },
  {
   "cell_type": "code",
   "execution_count": null,
   "id": "c55e4a0c",
   "metadata": {
    "ExecuteTime": {
     "end_time": "2023-08-01T22:07:00.946709Z",
     "start_time": "2023-08-01T22:07:00.931731Z"
    }
   },
   "outputs": [],
   "source": [
    "## Check the index to confirm the current freq\n",
    "\n"
   ]
  },
  {
   "cell_type": "markdown",
   "id": "0e018276",
   "metadata": {},
   "source": [
    ">It looks like we have minute-resolution data (frequency = minutes)."
   ]
  },
  {
   "cell_type": "markdown",
   "id": "fde6578f",
   "metadata": {},
   "source": [
    "### Resample as Weeks Frequency"
   ]
  },
  {
   "cell_type": "markdown",
   "id": "59a53b45",
   "metadata": {},
   "source": [
    "- We need to look up the correct frequency code for weeks: https://pandas.pydata.org/docs/user_guide/timeseries.html#dateoffset-objects \n",
    "    "
   ]
  },
  {
   "cell_type": "code",
   "execution_count": null,
   "id": "9be4fee3",
   "metadata": {
    "ExecuteTime": {
     "end_time": "2023-08-01T22:07:00.962659Z",
     "start_time": "2023-08-01T22:07:00.947707Z"
    }
   },
   "outputs": [],
   "source": [
    "## Resample to weeks using correct freq code and keep just the last value\n",
    "ts_W = ##\n",
    "ts_W"
   ]
  },
  {
   "cell_type": "code",
   "execution_count": null,
   "id": "3d05ee3f",
   "metadata": {
    "ExecuteTime": {
     "end_time": "2023-08-01T22:07:00.978727Z",
     "start_time": "2023-08-01T22:07:00.963656Z"
    }
   },
   "outputs": [],
   "source": [
    "ts_W.index"
   ]
  },
  {
   "cell_type": "markdown",
   "id": "b642ec0d",
   "metadata": {},
   "source": [
    "### Let's resample and plot our ts as daily, weekly, and monthly to compare."
   ]
  },
  {
   "cell_type": "code",
   "execution_count": null,
   "id": "2bf28673",
   "metadata": {
    "ExecuteTime": {
     "end_time": "2023-08-01T22:07:02.111745Z",
     "start_time": "2023-08-01T22:07:00.979693Z"
    }
   },
   "outputs": [],
   "source": [
    "freqs = ['D','W','M','Q','A']\n",
    "\n",
    "\n",
    "for freq in freqs:\n",
    "    ax = ts.plot(label='Original',  style='.-',\n",
    "            title=f'Comparing Resampled Frequencies: {freq}');\n",
    "\n",
    "    ts_temp = ts.resample(freq).last()\n",
    "    ts_temp.plot(style='.-', label=freq,ax=ax)\n",
    "    plt.legend()\n",
    "    plt.show()"
   ]
  },
  {
   "cell_type": "markdown",
   "id": "f33851ce",
   "metadata": {},
   "source": [
    "# Save the new processed data"
   ]
  },
  {
   "cell_type": "code",
   "execution_count": null,
   "id": "3e9e7f32",
   "metadata": {
    "ExecuteTime": {
     "end_time": "2023-08-01T22:07:02.126777Z",
     "start_time": "2023-08-01T22:07:02.112740Z"
    }
   },
   "outputs": [],
   "source": [
    "import os\n",
    "folder = \"Data/FromClass/\"\n",
    "os.makedirs(folder, exist_ok=True)"
   ]
  },
  {
   "cell_type": "code",
   "execution_count": null,
   "id": "0e24bc59",
   "metadata": {
    "ExecuteTime": {
     "end_time": "2023-08-01T22:07:03.452496Z",
     "start_time": "2023-08-01T22:07:02.127747Z"
    }
   },
   "outputs": [],
   "source": [
    "df_ts.to_csv(folder + 'SP500-Close-Prices.csv')"
   ]
  },
  {
   "cell_type": "code",
   "execution_count": null,
   "id": "31a6be54",
   "metadata": {
    "ExecuteTime": {
     "end_time": "2023-08-01T22:07:03.483218Z",
     "start_time": "2023-08-01T22:07:03.453547Z"
    }
   },
   "outputs": [],
   "source": [
    "crypto_unstacked.to_csv(folder + 'crypto_currencies.csv')"
   ]
  },
  {
   "cell_type": "markdown",
   "id": "cd5665a5",
   "metadata": {},
   "source": [
    "# Appendix: Using Tick Date Formatters/Locators"
   ]
  },
  {
   "cell_type": "markdown",
   "id": "c1a1b934",
   "metadata": {},
   "source": [
    "- Let's add a minor xtick every 3 months."
   ]
  },
  {
   "cell_type": "code",
   "execution_count": null,
   "id": "464e20d6",
   "metadata": {
    "ExecuteTime": {
     "end_time": "2023-08-01T22:07:03.498671Z",
     "start_time": "2023-08-01T22:07:03.484218Z"
    }
   },
   "outputs": [],
   "source": [
    "import matplotlib.dates as mdates"
   ]
  },
  {
   "cell_type": "code",
   "execution_count": null,
   "id": "742ff38b",
   "metadata": {
    "ExecuteTime": {
     "end_time": "2023-08-01T22:07:03.513692Z",
     "start_time": "2023-08-01T22:07:03.499696Z"
    }
   },
   "outputs": [],
   "source": [
    "## CREATE ARTISTS FOR MAJOR XTICKS (Years)\n",
    "# Create a year locator\n",
    "loc_major_yr = mdates.YearLocator()\n",
    "# Create a year formatter using 4-digit years\n",
    "fmt_major_yr = mdates.DateFormatter(\"%Y\")\n",
    "\n",
    "\n",
    "## CREATE ARTISTS FOR MINOR XTICKS ( Months)\n",
    "# Create a month locator that will add months at 1,4,7,10\n",
    "loc_minor_3m = mdates.MonthLocator(bymonth=[1,4,7,10])\n",
    "# Createa monthnformatter that will use 3-letter month names\n",
    "fmt_minor_3m = mdates.DateFormatter(\"%b\")"
   ]
  },
  {
   "cell_type": "code",
   "execution_count": null,
   "id": "185ccc7d",
   "metadata": {
    "ExecuteTime": {
     "end_time": "2023-08-01T22:07:05.298386Z",
     "start_time": "2023-08-01T22:07:03.514688Z"
    }
   },
   "outputs": [],
   "source": [
    "## Create our plot and save the ax\n",
    "ax = df_ts.plot()\n",
    "ax.set(ylabel=\"Stock Value\", title='S&P 500')\n",
    "\n",
    "# Set xaxis major locator/formatter\n",
    "ax.xaxis.set_major_locator(loc_major_yr)\n",
    "ax.xaxis.set_major_formatter(fmt_major_yr)\n",
    "\n",
    "\n",
    "# Set xaxis minor locator/formatter\n",
    "ax.xaxis.set_minor_locator(loc_minor_3m)\n",
    "ax.xaxis.set_minor_formatter(fmt_minor_3m)"
   ]
  },
  {
   "cell_type": "code",
   "execution_count": null,
   "id": "4d8c70a8",
   "metadata": {
    "ExecuteTime": {
     "end_time": "2023-08-01T22:07:07.289264Z",
     "start_time": "2023-08-01T22:07:05.299582Z"
    }
   },
   "outputs": [],
   "source": [
    "## Create our plot and save the ax\n",
    "ax = df_ts.plot()\n",
    "ax.set(ylabel=\"Stock Value\", title='S&P 500')\n",
    "\n",
    "# Set xaxis major locator/formatter\n",
    "ax.xaxis.set_major_locator(loc_major_yr)\n",
    "ax.xaxis.set_major_formatter(fmt_major_yr)\n",
    "\n",
    "\n",
    "# Set xaxis minor locator/formatter\n",
    "ax.xaxis.set_minor_locator(loc_minor_3m)\n",
    "ax.xaxis.set_minor_formatter(fmt_minor_3m)\n",
    "\n",
    "\n",
    "\n",
    "\n",
    "\n",
    "# Add gridlines for major xaxis ticks\n",
    "ax.grid(which='major',axis='x',color='k',ls=':',lw=1)\n",
    "\n",
    "## Rotate the major tick years using fig.autofmt_xdate\n",
    "fig = ax.get_figure()\n",
    "fig.autofmt_xdate(which='major', rotation=90,ha='center')"
   ]
  },
  {
   "cell_type": "code",
   "execution_count": null,
   "id": "6c416a03",
   "metadata": {
    "ExecuteTime": {
     "end_time": "2023-08-01T22:07:07.305219Z",
     "start_time": "2023-08-01T22:07:07.290260Z"
    }
   },
   "outputs": [],
   "source": [
    "def format_xdates_stocks(ax):\n",
    "    \n",
    "    # Create a year locator\n",
    "    loc_major_yr = mdates.YearLocator()\n",
    "    # Create a year formatter using 4-digit years\n",
    "    fmt_major_yr = mdates.DateFormatter(\"%Y\")\n",
    "\n",
    "\n",
    "    # Create a month locator that will add months at 1,4,7,10\n",
    "    loc_minor_3m = mdates.MonthLocator(bymonth=[1,4,7,10])\n",
    "    # Createa monthnformatter that will use 3-letter month names\n",
    "    fmt_minor_3m = mdates.DateFormatter(\"%b\")\n",
    "    \n",
    "\n",
    "    \n",
    "    # Set xaxis major locator/formatter\n",
    "    ax.xaxis.set_major_locator(loc_major_yr)\n",
    "    ax.xaxis.set_major_formatter(fmt_major_yr)\n",
    "\n",
    "\n",
    "    # Set xaxis minor locator/formatter\n",
    "    ax.xaxis.set_minor_locator(loc_minor_3m)\n",
    "    ax.xaxis.set_minor_formatter(fmt_minor_3m)\n",
    "\n",
    "    \n",
    "\n",
    "    # Add gridlines for major xaxis ticks\n",
    "    ax.grid(which='major',axis='x',color='k',ls=':',lw=1)\n",
    "\n",
    "    ## Rotate the major tick years using fig.autofmt_xdate\n",
    "    fig = ax.get_figure()\n",
    "    fig.autofmt_xdate(which='major', rotation=90,ha='center')\n",
    "    return fig\n"
   ]
  },
  {
   "cell_type": "code",
   "execution_count": null,
   "id": "01b8691e",
   "metadata": {
    "ExecuteTime": {
     "end_time": "2023-08-01T22:07:09.208130Z",
     "start_time": "2023-08-01T22:07:07.306216Z"
    }
   },
   "outputs": [],
   "source": [
    "ax = df_ts.plot()\n",
    "format_xdates_stocks(ax);"
   ]
  }
 ],
 "metadata": {
  "kernelspec": {
   "display_name": "Python (dojo-env)",
   "language": "python",
   "name": "dojo-env"
  },
  "language_info": {
   "codemirror_mode": {
    "name": "ipython",
    "version": 3
   },
   "file_extension": ".py",
   "mimetype": "text/x-python",
   "name": "python",
   "nbconvert_exporter": "python",
   "pygments_lexer": "ipython3",
   "version": "3.10.10"
  },
  "toc": {
   "base_numbering": 1,
   "nav_menu": {},
   "number_sections": false,
   "sideBar": true,
   "skip_h1_title": false,
   "title_cell": "Table of Contents",
   "title_sidebar": "Contents",
   "toc_cell": false,
   "toc_position": {
    "height": "calc(100% - 180px)",
    "left": "10px",
    "top": "150px",
    "width": "244.361px"
   },
   "toc_section_display": true,
   "toc_window_display": false
  },
  "widgets": {
   "application/vnd.jupyter.widget-state+json": {
    "state": {},
    "version_major": 2,
    "version_minor": 0
   }
  }
 },
 "nbformat": 4,
 "nbformat_minor": 5
}
