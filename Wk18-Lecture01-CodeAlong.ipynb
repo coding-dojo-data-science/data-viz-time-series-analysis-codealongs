{
 "cells": [
  {
   "cell_type": "markdown",
   "id": "25771c9c",
   "metadata": {},
   "source": [
    "# Wk18-Lecture01-CodeAlong: Preparing Time Series Data"
   ]
  },
  {
   "cell_type": "markdown",
   "id": "f20b0a55",
   "metadata": {},
   "source": [
    "## Learning Objectives"
   ]
  },
  {
   "cell_type": "markdown",
   "id": "df5eb627",
   "metadata": {},
   "source": [
    "- By the end of this CodeAlong, students will be able to:\n",
    "    - Create date time indices\n",
    "    - Resample at various frequencies\n",
    "    - Impute null values for time series \n",
    "    - Convert wide-form data to long-form\n",
    "    "
   ]
  },
  {
   "cell_type": "code",
   "execution_count": 1,
   "id": "7dd25599",
   "metadata": {
    "ExecuteTime": {
     "end_time": "2023-08-02T01:16:31.049696Z",
     "start_time": "2023-08-02T01:16:29.532503Z"
    }
   },
   "outputs": [],
   "source": [
    "import pandas as pd\n",
    "import matplotlib.pyplot as plt\n",
    "import matplotlib.dates as mdates\n",
    "\n",
    "import seaborn as sns\n",
    "import numpy as np\n",
    "\n",
    "pd.set_option('display.float_format', lambda x:f\"{x:,.2f}\")"
   ]
  },
  {
   "cell_type": "code",
   "execution_count": 2,
   "id": "7fc93259",
   "metadata": {
    "ExecuteTime": {
     "end_time": "2023-08-02T01:16:31.056191Z",
     "start_time": "2023-08-02T01:16:31.050694Z"
    }
   },
   "outputs": [],
   "source": [
    "sns.set_context('notebook', font_scale=0.9)\n",
    "plt.style.use(['ggplot'])"
   ]
  },
  {
   "cell_type": "markdown",
   "id": "ab280009",
   "metadata": {},
   "source": [
    "# Datetime Objects"
   ]
  },
  {
   "cell_type": "code",
   "execution_count": 3,
   "id": "c03f8a52",
   "metadata": {
    "ExecuteTime": {
     "end_time": "2023-08-02T01:16:31.061495Z",
     "start_time": "2023-08-02T01:16:31.057203Z"
    }
   },
   "outputs": [],
   "source": [
    "## Import datetime library\n",
    "import datetime as dt"
   ]
  },
  {
   "cell_type": "code",
   "execution_count": 4,
   "id": "3660ff32",
   "metadata": {
    "ExecuteTime": {
     "end_time": "2023-08-02T01:16:31.074467Z",
     "start_time": "2023-08-02T01:16:31.063491Z"
    }
   },
   "outputs": [
    {
     "data": {
      "text/plain": [
       "datetime.datetime(2023, 8, 1, 18, 16, 31, 64489)"
      ]
     },
     "execution_count": 4,
     "metadata": {},
     "output_type": "execute_result"
    }
   ],
   "source": [
    "# Get Today's date(&time) from python's datetime.datetime module\n",
    "today_datetime = dt.datetime.today()\n",
    "today_datetime"
   ]
  },
  {
   "cell_type": "code",
   "execution_count": 5,
   "id": "90903094",
   "metadata": {
    "ExecuteTime": {
     "end_time": "2023-08-02T01:16:31.083451Z",
     "start_time": "2023-08-02T01:16:31.077466Z"
    }
   },
   "outputs": [
    {
     "data": {
      "text/plain": [
       "datetime.datetime"
      ]
     },
     "execution_count": 5,
     "metadata": {},
     "output_type": "execute_result"
    }
   ],
   "source": [
    "type(today_datetime)"
   ]
  },
  {
   "cell_type": "code",
   "execution_count": 6,
   "id": "23d7b155",
   "metadata": {
    "ExecuteTime": {
     "end_time": "2023-08-02T01:16:31.090783Z",
     "start_time": "2023-08-02T01:16:31.085446Z"
    }
   },
   "outputs": [
    {
     "name": "stdout",
     "output_type": "stream",
     "text": [
      "2023-08-01 18:16:31.064489\n"
     ]
    }
   ],
   "source": [
    "print(today_datetime)"
   ]
  },
  {
   "cell_type": "markdown",
   "id": "c7caf247",
   "metadata": {},
   "source": [
    "### Datetime Formats"
   ]
  },
  {
   "cell_type": "markdown",
   "id": "d72446a9",
   "metadata": {},
   "source": [
    "- Datetime objects have a `.strftime()` method (string-format-time)\n",
    "\n",
    "- 📖 **strftime cheat sheet: https://strftime.org/**\n",
    "- 📖 **Official Table of Python datetime format codes: https://docs.python.org/3/library/datetime.html#strftime-and-strptime-format-codes **\n",
    "\n",
    "\n",
    "| Directive   | Meaning                                                                                                                                                                          | Example                                                                      |\n",
    "|:------------|:---------------------------------------------------------------------------------------------------------------------------------------------------------------------------------|:-----------------------------------------------------------------------------|\n",
    "| %a          | Weekday as locale’s abbreviated name.                                                                                                                                            | Sun, Mon, …, Sat (en_US); So, Mo, …, Sa (de_DE)                              |\n",
    "| %A          | Weekday as locale’s full name.                                                                                                                                                   | Sunday, Monday, …, Saturday (en_US); Sonntag, Montag, …, Samstag (de_DE)     |\n",
    "| %w          | Weekday as a decimal number, where 0 is Sunday and 6 is Saturday.                                                                                                                | 0, 1, …, 6                                                                   |\n",
    "| %d          | Day of the month as a zero-padded decimal number.                                                                                                                                | 01, 02, …, 31                                                                |\n",
    "| %b          | Month as locale’s abbreviated name.                                                                                                                                              | Jan, Feb, …, Dec (en_US); Jan, Feb, …, Dez (de_DE)                           |\n",
    "| %B          | Month as locale’s full name.                                                                                                                                                     | January, February, …, December (en_US); Januar, Februar, …, Dezember (de_DE) |\n",
    "| %m          | Month as a zero-padded decimal number.                                                                                                                                           | 01, 02, …, 12                                                                |\n",
    "| %y          | Year without century as a zero-padded decimal number.                                                                                                                            | 00, 01, …, 99                                                                |\n",
    "| %Y          | Year with century as a decimal number.                                                                                                                                           | 0001, 0002, …, 2013, 2014, …, 9998, 9999                                     |\n",
    "| %H          | Hour (24-hour clock) as a zero-padded decimal number.                                                                                                                            | 00, 01, …, 23                                                                |\n",
    "| %I          | Hour (12-hour clock) as a zero-padded decimal number.                                                                                                                            | 01, 02, …, 12                                                                |\n",
    "| %p          | Locale’s equivalent of either AM or PM.                                                                                                                                          | AM, PM (en_US); am, pm (de_DE)                                               |\n",
    "| %M          | Minute as a zero-padded decimal number.                                                                                                                                          | 00, 01, …, 59                                                                |\n",
    "| %S          | Second as a zero-padded decimal number.                                                                                                                                          | 00, 01, …, 59                                                                |\n",
    "| %f          | Microsecond as a decimal number, zero-padded to 6 digits.                                                                                                                        | 000000, 000001, …, 999999                                                    |\n",
    "| %z          | UTC offset in the form ±HHMM[SS[.ffffff]] (empty string if the object is naive).                                                                                                 | (empty), +0000, -0400, +1030, +063415, -030712.345216                        |\n",
    "| %Z          | Time zone name (empty string if the object is naive).                                                                                                                            | (empty), UTC, GMT                                                            |\n",
    "| %j          | Day of the year as a zero-padded decimal number.                                                                                                                                 | 001, 002, …, 366                                                             |\n",
    "| %U          | Week number of the year (Sunday as the first day of the week) as a zero-padded decimal number. All days in a new year preceding the first Sunday are considered to be in week 0. | 00, 01, …, 53                                                                |\n",
    "| %W          | Week number of the year (Monday as the first day of the week) as a zero-padded decimal number. All days in a new year preceding the first Monday are considered to be in week 0. | 00, 01, …, 53                                                                |\n",
    "| %c          | Locale’s appropriate date and time representation.                                                                                                                               | Tue Aug 16 21:30:00 1988 (en_US); Di 16 Aug 21:30:00 1988 (de_DE)            |\n",
    "| %x          | Locale’s appropriate date representation.                                                                                                                                        | 08/16/88 (None); 08/16/1988 (en_US); 16.08.1988 (de_DE)                      |\n",
    "| %X          | Locale’s appropriate time representation.                                                                                                                                        | 21:30:00 (en_US); 21:30:00 (de_DE)                                           |\n",
    "| %%          | A literal '%' character.                                                                                                                                                         | %                                                                            |"
   ]
  },
  {
   "cell_type": "code",
   "execution_count": 7,
   "id": "f5e83a9d",
   "metadata": {
    "ExecuteTime": {
     "end_time": "2023-08-02T01:16:31.097291Z",
     "start_time": "2023-08-02T01:16:31.092301Z"
    }
   },
   "outputs": [
    {
     "name": "stdout",
     "output_type": "stream",
     "text": [
      "2023-08-01 18:16:31.064489\n"
     ]
    }
   ],
   "source": [
    "print(today_datetime)"
   ]
  },
  {
   "cell_type": "markdown",
   "id": "090267a7",
   "metadata": {},
   "source": [
    "Let's test out the strftime codes:"
   ]
  },
  {
   "cell_type": "code",
   "execution_count": 8,
   "id": "f15ed688",
   "metadata": {
    "ExecuteTime": {
     "end_time": "2023-08-02T01:16:31.104272Z",
     "start_time": "2023-08-02T01:16:31.099286Z"
    }
   },
   "outputs": [
    {
     "data": {
      "text/plain": [
       "'08/01/2023 18:16'"
      ]
     },
     "execution_count": 8,
     "metadata": {},
     "output_type": "execute_result"
    }
   ],
   "source": [
    "## Month/Day/Year 24Hour Time\n",
    "mo_day_yr_24hr_time_fmt = '%m/%d/%Y %H:%M'\n",
    "today_dt_24hr_str = today_datetime.strftime(mo_day_yr_24hr_time_fmt)\n",
    "today_dt_24hr_str"
   ]
  },
  {
   "cell_type": "code",
   "execution_count": 9,
   "id": "b46c9f5d",
   "metadata": {
    "ExecuteTime": {
     "end_time": "2023-08-02T01:16:31.110631Z",
     "start_time": "2023-08-02T01:16:31.105269Z"
    }
   },
   "outputs": [
    {
     "data": {
      "text/plain": [
       "'08/01/2023 06:16 PM'"
      ]
     },
     "execution_count": 9,
     "metadata": {},
     "output_type": "execute_result"
    }
   ],
   "source": [
    "## Monday/Day/Year 12 Hour Time (+AM/PM)\n",
    "mo_day_yr_12hr_time_fmt =  '%m/%d/%Y %I:%M %p'\n",
    "\n",
    "today_dt_12hr_str = today_datetime.strftime(mo_day_yr_12hr_time_fmt)\n",
    "today_dt_12hr_str"
   ]
  },
  {
   "cell_type": "markdown",
   "id": "9381dab4",
   "metadata": {},
   "source": [
    "> `.strftime` returns a STRING"
   ]
  },
  {
   "cell_type": "code",
   "execution_count": 10,
   "id": "5d4bcc8b",
   "metadata": {
    "ExecuteTime": {
     "end_time": "2023-08-02T01:16:31.116129Z",
     "start_time": "2023-08-02T01:16:31.111628Z"
    }
   },
   "outputs": [
    {
     "data": {
      "text/plain": [
       "str"
      ]
     },
     "execution_count": 10,
     "metadata": {},
     "output_type": "execute_result"
    }
   ],
   "source": [
    "type(today_dt_24hr_str)"
   ]
  },
  {
   "cell_type": "markdown",
   "id": "6f1d10c7",
   "metadata": {},
   "source": [
    "`pd.to_datetime` PREVIEW!!\n",
    "\n",
    "We can use Pandas to convert the string to a Timestamp object"
   ]
  },
  {
   "cell_type": "code",
   "execution_count": 11,
   "id": "6db05687",
   "metadata": {
    "ExecuteTime": {
     "end_time": "2023-08-02T01:16:31.125302Z",
     "start_time": "2023-08-02T01:16:31.117147Z"
    }
   },
   "outputs": [
    {
     "data": {
      "text/plain": [
       "Timestamp('2023-08-01 18:16:00')"
      ]
     },
     "execution_count": 11,
     "metadata": {},
     "output_type": "execute_result"
    }
   ],
   "source": [
    "## Convert to Timestamp type! \n",
    "converted_date_pandas = pd.to_datetime(today_dt_24hr_str)\n",
    "converted_date_pandas"
   ]
  },
  {
   "cell_type": "markdown",
   "id": "f1b7cb0c",
   "metadata": {},
   "source": [
    "> We will use pandas datetime objects/functions whenever possible, as they save us a lot of time!"
   ]
  },
  {
   "cell_type": "markdown",
   "id": "ca7fe393",
   "metadata": {},
   "source": [
    "# Working with Time Series - Data with Regular Intervals"
   ]
  },
  {
   "cell_type": "markdown",
   "id": "2d927ed1",
   "metadata": {},
   "source": [
    "### Stock Data (S&P500)"
   ]
  },
  {
   "cell_type": "markdown",
   "id": "bfe9844e",
   "metadata": {},
   "source": [
    "- S&P 500 (Kibot) \n",
    "     - IVE S&P 500 1-min aggregate data from: http://www.kibot.com/free_historical_data.aspx"
   ]
  },
  {
   "cell_type": "code",
   "execution_count": 12,
   "id": "23f17c51",
   "metadata": {
    "ExecuteTime": {
     "end_time": "2023-08-02T01:16:31.532072Z",
     "start_time": "2023-08-02T01:16:31.127805Z"
    }
   },
   "outputs": [
    {
     "data": {
      "text/html": [
       "<div>\n",
       "<style scoped>\n",
       "    .dataframe tbody tr th:only-of-type {\n",
       "        vertical-align: middle;\n",
       "    }\n",
       "\n",
       "    .dataframe tbody tr th {\n",
       "        vertical-align: top;\n",
       "    }\n",
       "\n",
       "    .dataframe thead th {\n",
       "        text-align: right;\n",
       "    }\n",
       "</style>\n",
       "<table border=\"1\" class=\"dataframe\">\n",
       "  <thead>\n",
       "    <tr style=\"text-align: right;\">\n",
       "      <th></th>\n",
       "      <th>Date</th>\n",
       "      <th>Time</th>\n",
       "      <th>BidOpen</th>\n",
       "      <th>BidHigh</th>\n",
       "      <th>BidLow</th>\n",
       "      <th>BidClose</th>\n",
       "      <th>AskOpen</th>\n",
       "      <th>AskHigh</th>\n",
       "      <th>AskLow</th>\n",
       "      <th>AskClose</th>\n",
       "    </tr>\n",
       "  </thead>\n",
       "  <tbody>\n",
       "    <tr>\n",
       "      <th>0</th>\n",
       "      <td>01/02/2018</td>\n",
       "      <td>09:29</td>\n",
       "      <td>102.33</td>\n",
       "      <td>102.33</td>\n",
       "      <td>102.33</td>\n",
       "      <td>102.33</td>\n",
       "      <td>102.67</td>\n",
       "      <td>102.67</td>\n",
       "      <td>102.67</td>\n",
       "      <td>102.67</td>\n",
       "    </tr>\n",
       "    <tr>\n",
       "      <th>1</th>\n",
       "      <td>01/02/2018</td>\n",
       "      <td>09:30</td>\n",
       "      <td>102.56</td>\n",
       "      <td>102.56</td>\n",
       "      <td>102.50</td>\n",
       "      <td>102.52</td>\n",
       "      <td>102.75</td>\n",
       "      <td>102.75</td>\n",
       "      <td>102.53</td>\n",
       "      <td>102.53</td>\n",
       "    </tr>\n",
       "    <tr>\n",
       "      <th>2</th>\n",
       "      <td>01/02/2018</td>\n",
       "      <td>09:31</td>\n",
       "      <td>102.51</td>\n",
       "      <td>102.54</td>\n",
       "      <td>102.51</td>\n",
       "      <td>102.53</td>\n",
       "      <td>102.54</td>\n",
       "      <td>102.57</td>\n",
       "      <td>102.54</td>\n",
       "      <td>102.55</td>\n",
       "    </tr>\n",
       "    <tr>\n",
       "      <th>3</th>\n",
       "      <td>01/02/2018</td>\n",
       "      <td>09:32</td>\n",
       "      <td>102.58</td>\n",
       "      <td>102.58</td>\n",
       "      <td>102.58</td>\n",
       "      <td>102.58</td>\n",
       "      <td>102.59</td>\n",
       "      <td>102.59</td>\n",
       "      <td>102.59</td>\n",
       "      <td>102.59</td>\n",
       "    </tr>\n",
       "    <tr>\n",
       "      <th>4</th>\n",
       "      <td>01/02/2018</td>\n",
       "      <td>09:33</td>\n",
       "      <td>102.58</td>\n",
       "      <td>102.58</td>\n",
       "      <td>102.51</td>\n",
       "      <td>102.51</td>\n",
       "      <td>102.59</td>\n",
       "      <td>102.59</td>\n",
       "      <td>102.52</td>\n",
       "      <td>102.52</td>\n",
       "    </tr>\n",
       "  </tbody>\n",
       "</table>\n",
       "</div>"
      ],
      "text/plain": [
       "         Date   Time  BidOpen  BidHigh  BidLow  BidClose  AskOpen  AskHigh  \\\n",
       "0  01/02/2018  09:29   102.33   102.33  102.33    102.33   102.67   102.67   \n",
       "1  01/02/2018  09:30   102.56   102.56  102.50    102.52   102.75   102.75   \n",
       "2  01/02/2018  09:31   102.51   102.54  102.51    102.53   102.54   102.57   \n",
       "3  01/02/2018  09:32   102.58   102.58  102.58    102.58   102.59   102.59   \n",
       "4  01/02/2018  09:33   102.58   102.58  102.51    102.51   102.59   102.59   \n",
       "\n",
       "   AskLow  AskClose  \n",
       "0  102.67    102.67  \n",
       "1  102.53    102.53  \n",
       "2  102.54    102.55  \n",
       "3  102.59    102.59  \n",
       "4  102.52    102.52  "
      ]
     },
     "execution_count": 12,
     "metadata": {},
     "output_type": "execute_result"
    }
   ],
   "source": [
    "sp500_min_df = pd.read_csv('Data/stocks/sp500_ive_min_tick_bidask.csv')\n",
    "sp500_min_df.head()"
   ]
  },
  {
   "cell_type": "code",
   "execution_count": 13,
   "id": "174ba4f6",
   "metadata": {
    "ExecuteTime": {
     "end_time": "2023-08-02T01:16:31.641434Z",
     "start_time": "2023-08-02T01:16:31.534066Z"
    }
   },
   "outputs": [
    {
     "name": "stdout",
     "output_type": "stream",
     "text": [
      "<class 'pandas.core.frame.DataFrame'>\n",
      "RangeIndex: 445762 entries, 0 to 445761\n",
      "Data columns (total 10 columns):\n",
      " #   Column    Non-Null Count   Dtype  \n",
      "---  ------    --------------   -----  \n",
      " 0   Date      445762 non-null  object \n",
      " 1   Time      445762 non-null  object \n",
      " 2   BidOpen   445762 non-null  float64\n",
      " 3   BidHigh   445762 non-null  float64\n",
      " 4   BidLow    445762 non-null  float64\n",
      " 5   BidClose  445762 non-null  float64\n",
      " 6   AskOpen   445762 non-null  float64\n",
      " 7   AskHigh   445762 non-null  float64\n",
      " 8   AskLow    445762 non-null  float64\n",
      " 9   AskClose  445762 non-null  float64\n",
      "dtypes: float64(8), object(2)\n",
      "memory usage: 34.0+ MB\n"
     ]
    }
   ],
   "source": [
    "sp500_min_df.info()"
   ]
  },
  {
   "cell_type": "markdown",
   "id": "2df3364e",
   "metadata": {},
   "source": [
    "## <font color='blue'> Step 1: </font>Convert dates and times into a single column\n",
    "\n",
    "Combine date and time columns"
   ]
  },
  {
   "cell_type": "code",
   "execution_count": 14,
   "id": "29f5ff57",
   "metadata": {
    "ExecuteTime": {
     "end_time": "2023-08-02T01:16:31.735870Z",
     "start_time": "2023-08-02T01:16:31.645423Z"
    }
   },
   "outputs": [
    {
     "data": {
      "text/html": [
       "<div>\n",
       "<style scoped>\n",
       "    .dataframe tbody tr th:only-of-type {\n",
       "        vertical-align: middle;\n",
       "    }\n",
       "\n",
       "    .dataframe tbody tr th {\n",
       "        vertical-align: top;\n",
       "    }\n",
       "\n",
       "    .dataframe thead th {\n",
       "        text-align: right;\n",
       "    }\n",
       "</style>\n",
       "<table border=\"1\" class=\"dataframe\">\n",
       "  <thead>\n",
       "    <tr style=\"text-align: right;\">\n",
       "      <th></th>\n",
       "      <th>Date</th>\n",
       "      <th>Time</th>\n",
       "      <th>BidOpen</th>\n",
       "      <th>BidHigh</th>\n",
       "      <th>BidLow</th>\n",
       "      <th>BidClose</th>\n",
       "      <th>AskOpen</th>\n",
       "      <th>AskHigh</th>\n",
       "      <th>AskLow</th>\n",
       "      <th>AskClose</th>\n",
       "      <th>datetime</th>\n",
       "    </tr>\n",
       "  </thead>\n",
       "  <tbody>\n",
       "    <tr>\n",
       "      <th>0</th>\n",
       "      <td>01/02/2018</td>\n",
       "      <td>09:29</td>\n",
       "      <td>102.33</td>\n",
       "      <td>102.33</td>\n",
       "      <td>102.33</td>\n",
       "      <td>102.33</td>\n",
       "      <td>102.67</td>\n",
       "      <td>102.67</td>\n",
       "      <td>102.67</td>\n",
       "      <td>102.67</td>\n",
       "      <td>01/02/2018 09:29</td>\n",
       "    </tr>\n",
       "    <tr>\n",
       "      <th>1</th>\n",
       "      <td>01/02/2018</td>\n",
       "      <td>09:30</td>\n",
       "      <td>102.56</td>\n",
       "      <td>102.56</td>\n",
       "      <td>102.50</td>\n",
       "      <td>102.52</td>\n",
       "      <td>102.75</td>\n",
       "      <td>102.75</td>\n",
       "      <td>102.53</td>\n",
       "      <td>102.53</td>\n",
       "      <td>01/02/2018 09:30</td>\n",
       "    </tr>\n",
       "    <tr>\n",
       "      <th>2</th>\n",
       "      <td>01/02/2018</td>\n",
       "      <td>09:31</td>\n",
       "      <td>102.51</td>\n",
       "      <td>102.54</td>\n",
       "      <td>102.51</td>\n",
       "      <td>102.53</td>\n",
       "      <td>102.54</td>\n",
       "      <td>102.57</td>\n",
       "      <td>102.54</td>\n",
       "      <td>102.55</td>\n",
       "      <td>01/02/2018 09:31</td>\n",
       "    </tr>\n",
       "    <tr>\n",
       "      <th>3</th>\n",
       "      <td>01/02/2018</td>\n",
       "      <td>09:32</td>\n",
       "      <td>102.58</td>\n",
       "      <td>102.58</td>\n",
       "      <td>102.58</td>\n",
       "      <td>102.58</td>\n",
       "      <td>102.59</td>\n",
       "      <td>102.59</td>\n",
       "      <td>102.59</td>\n",
       "      <td>102.59</td>\n",
       "      <td>01/02/2018 09:32</td>\n",
       "    </tr>\n",
       "    <tr>\n",
       "      <th>4</th>\n",
       "      <td>01/02/2018</td>\n",
       "      <td>09:33</td>\n",
       "      <td>102.58</td>\n",
       "      <td>102.58</td>\n",
       "      <td>102.51</td>\n",
       "      <td>102.51</td>\n",
       "      <td>102.59</td>\n",
       "      <td>102.59</td>\n",
       "      <td>102.52</td>\n",
       "      <td>102.52</td>\n",
       "      <td>01/02/2018 09:33</td>\n",
       "    </tr>\n",
       "  </tbody>\n",
       "</table>\n",
       "</div>"
      ],
      "text/plain": [
       "         Date   Time  BidOpen  BidHigh  BidLow  BidClose  AskOpen  AskHigh  \\\n",
       "0  01/02/2018  09:29   102.33   102.33  102.33    102.33   102.67   102.67   \n",
       "1  01/02/2018  09:30   102.56   102.56  102.50    102.52   102.75   102.75   \n",
       "2  01/02/2018  09:31   102.51   102.54  102.51    102.53   102.54   102.57   \n",
       "3  01/02/2018  09:32   102.58   102.58  102.58    102.58   102.59   102.59   \n",
       "4  01/02/2018  09:33   102.58   102.58  102.51    102.51   102.59   102.59   \n",
       "\n",
       "   AskLow  AskClose          datetime  \n",
       "0  102.67    102.67  01/02/2018 09:29  \n",
       "1  102.53    102.53  01/02/2018 09:30  \n",
       "2  102.54    102.55  01/02/2018 09:31  \n",
       "3  102.59    102.59  01/02/2018 09:32  \n",
       "4  102.52    102.52  01/02/2018 09:33  "
      ]
     },
     "execution_count": 14,
     "metadata": {},
     "output_type": "execute_result"
    }
   ],
   "source": [
    "## Combine date and time into one column\n",
    "sp500_min_df['datetime'] = sp500_min_df['Date'] + ' ' + sp500_min_df['Time']\n",
    "## Examine the results\n",
    "sp500_min_df.head()\n"
   ]
  },
  {
   "cell_type": "markdown",
   "id": "64b16899",
   "metadata": {},
   "source": [
    "- `pd.to_datetime` Powerful  (but slow) function for converting data to datetime."
   ]
  },
  {
   "cell_type": "code",
   "execution_count": 15,
   "id": "980c1e8e",
   "metadata": {
    "ExecuteTime": {
     "end_time": "2023-08-02T01:16:31.887190Z",
     "start_time": "2023-08-02T01:16:31.736869Z"
    }
   },
   "outputs": [
    {
     "name": "stdout",
     "output_type": "stream",
     "text": [
      "<class 'pandas.core.frame.DataFrame'>\n",
      "RangeIndex: 445762 entries, 0 to 445761\n",
      "Data columns (total 11 columns):\n",
      " #   Column    Non-Null Count   Dtype  \n",
      "---  ------    --------------   -----  \n",
      " 0   Date      445762 non-null  object \n",
      " 1   Time      445762 non-null  object \n",
      " 2   BidOpen   445762 non-null  float64\n",
      " 3   BidHigh   445762 non-null  float64\n",
      " 4   BidLow    445762 non-null  float64\n",
      " 5   BidClose  445762 non-null  float64\n",
      " 6   AskOpen   445762 non-null  float64\n",
      " 7   AskHigh   445762 non-null  float64\n",
      " 8   AskLow    445762 non-null  float64\n",
      " 9   AskClose  445762 non-null  float64\n",
      " 10  datetime  445762 non-null  object \n",
      "dtypes: float64(8), object(3)\n",
      "memory usage: 37.4+ MB\n"
     ]
    }
   ],
   "source": [
    "sp500_min_df.info()"
   ]
  },
  {
   "cell_type": "code",
   "execution_count": 16,
   "id": "64ff2121",
   "metadata": {
    "ExecuteTime": {
     "end_time": "2023-08-02T01:16:31.917073Z",
     "start_time": "2023-08-02T01:16:31.889185Z"
    }
   },
   "outputs": [
    {
     "data": {
      "text/html": [
       "<div>\n",
       "<style scoped>\n",
       "    .dataframe tbody tr th:only-of-type {\n",
       "        vertical-align: middle;\n",
       "    }\n",
       "\n",
       "    .dataframe tbody tr th {\n",
       "        vertical-align: top;\n",
       "    }\n",
       "\n",
       "    .dataframe thead th {\n",
       "        text-align: right;\n",
       "    }\n",
       "</style>\n",
       "<table border=\"1\" class=\"dataframe\">\n",
       "  <thead>\n",
       "    <tr style=\"text-align: right;\">\n",
       "      <th></th>\n",
       "      <th>BidOpen</th>\n",
       "      <th>BidHigh</th>\n",
       "      <th>BidLow</th>\n",
       "      <th>BidClose</th>\n",
       "      <th>AskOpen</th>\n",
       "      <th>AskHigh</th>\n",
       "      <th>AskLow</th>\n",
       "      <th>AskClose</th>\n",
       "      <th>datetime</th>\n",
       "    </tr>\n",
       "  </thead>\n",
       "  <tbody>\n",
       "    <tr>\n",
       "      <th>0</th>\n",
       "      <td>102.33</td>\n",
       "      <td>102.33</td>\n",
       "      <td>102.33</td>\n",
       "      <td>102.33</td>\n",
       "      <td>102.67</td>\n",
       "      <td>102.67</td>\n",
       "      <td>102.67</td>\n",
       "      <td>102.67</td>\n",
       "      <td>01/02/2018 09:29</td>\n",
       "    </tr>\n",
       "    <tr>\n",
       "      <th>1</th>\n",
       "      <td>102.56</td>\n",
       "      <td>102.56</td>\n",
       "      <td>102.50</td>\n",
       "      <td>102.52</td>\n",
       "      <td>102.75</td>\n",
       "      <td>102.75</td>\n",
       "      <td>102.53</td>\n",
       "      <td>102.53</td>\n",
       "      <td>01/02/2018 09:30</td>\n",
       "    </tr>\n",
       "    <tr>\n",
       "      <th>2</th>\n",
       "      <td>102.51</td>\n",
       "      <td>102.54</td>\n",
       "      <td>102.51</td>\n",
       "      <td>102.53</td>\n",
       "      <td>102.54</td>\n",
       "      <td>102.57</td>\n",
       "      <td>102.54</td>\n",
       "      <td>102.55</td>\n",
       "      <td>01/02/2018 09:31</td>\n",
       "    </tr>\n",
       "    <tr>\n",
       "      <th>3</th>\n",
       "      <td>102.58</td>\n",
       "      <td>102.58</td>\n",
       "      <td>102.58</td>\n",
       "      <td>102.58</td>\n",
       "      <td>102.59</td>\n",
       "      <td>102.59</td>\n",
       "      <td>102.59</td>\n",
       "      <td>102.59</td>\n",
       "      <td>01/02/2018 09:32</td>\n",
       "    </tr>\n",
       "    <tr>\n",
       "      <th>4</th>\n",
       "      <td>102.58</td>\n",
       "      <td>102.58</td>\n",
       "      <td>102.51</td>\n",
       "      <td>102.51</td>\n",
       "      <td>102.59</td>\n",
       "      <td>102.59</td>\n",
       "      <td>102.52</td>\n",
       "      <td>102.52</td>\n",
       "      <td>01/02/2018 09:33</td>\n",
       "    </tr>\n",
       "  </tbody>\n",
       "</table>\n",
       "</div>"
      ],
      "text/plain": [
       "   BidOpen  BidHigh  BidLow  BidClose  AskOpen  AskHigh  AskLow  AskClose  \\\n",
       "0   102.33   102.33  102.33    102.33   102.67   102.67  102.67    102.67   \n",
       "1   102.56   102.56  102.50    102.52   102.75   102.75  102.53    102.53   \n",
       "2   102.51   102.54  102.51    102.53   102.54   102.57  102.54    102.55   \n",
       "3   102.58   102.58  102.58    102.58   102.59   102.59  102.59    102.59   \n",
       "4   102.58   102.58  102.51    102.51   102.59   102.59  102.52    102.52   \n",
       "\n",
       "           datetime  \n",
       "0  01/02/2018 09:29  \n",
       "1  01/02/2018 09:30  \n",
       "2  01/02/2018 09:31  \n",
       "3  01/02/2018 09:32  \n",
       "4  01/02/2018 09:33  "
      ]
     },
     "execution_count": 16,
     "metadata": {},
     "output_type": "execute_result"
    }
   ],
   "source": [
    "sp500_min_df = sp500_min_df.drop(columns=['Date','Time'])\n",
    "sp500_min_df.head()"
   ]
  },
  {
   "cell_type": "code",
   "execution_count": 17,
   "id": "ada63fd3",
   "metadata": {
    "ExecuteTime": {
     "end_time": "2023-08-02T01:16:31.986423Z",
     "start_time": "2023-08-02T01:16:31.919066Z"
    }
   },
   "outputs": [
    {
     "name": "stdout",
     "output_type": "stream",
     "text": [
      "<class 'pandas.core.frame.DataFrame'>\n",
      "RangeIndex: 445762 entries, 0 to 445761\n",
      "Data columns (total 9 columns):\n",
      " #   Column    Non-Null Count   Dtype  \n",
      "---  ------    --------------   -----  \n",
      " 0   BidOpen   445762 non-null  float64\n",
      " 1   BidHigh   445762 non-null  float64\n",
      " 2   BidLow    445762 non-null  float64\n",
      " 3   BidClose  445762 non-null  float64\n",
      " 4   AskOpen   445762 non-null  float64\n",
      " 5   AskHigh   445762 non-null  float64\n",
      " 6   AskLow    445762 non-null  float64\n",
      " 7   AskClose  445762 non-null  float64\n",
      " 8   datetime  445762 non-null  object \n",
      "dtypes: float64(8), object(1)\n",
      "memory usage: 30.6+ MB\n"
     ]
    }
   ],
   "source": [
    "sp500_min_df.info()"
   ]
  },
  {
   "cell_type": "markdown",
   "id": "bd74f95b",
   "metadata": {},
   "source": [
    "## <font color='blue'> Step 2: </font> Convert Datetime column to <font color='green'> datetime </font> type with <font color='green'> pd.to_datetime </font>"
   ]
  },
  {
   "cell_type": "markdown",
   "id": "b86db93c",
   "metadata": {},
   "source": [
    "## Using pd.to_datetime"
   ]
  },
  {
   "cell_type": "code",
   "execution_count": 18,
   "id": "ae85093e",
   "metadata": {
    "ExecuteTime": {
     "end_time": "2023-08-02T01:17:10.027792Z",
     "start_time": "2023-08-02T01:16:31.987925Z"
    }
   },
   "outputs": [
    {
     "name": "stdout",
     "output_type": "stream",
     "text": [
      "<class 'pandas.core.frame.DataFrame'>\n",
      "RangeIndex: 445762 entries, 0 to 445761\n",
      "Data columns (total 10 columns):\n",
      " #   Column         Non-Null Count   Dtype         \n",
      "---  ------         --------------   -----         \n",
      " 0   BidOpen        445762 non-null  float64       \n",
      " 1   BidHigh        445762 non-null  float64       \n",
      " 2   BidLow         445762 non-null  float64       \n",
      " 3   BidClose       445762 non-null  float64       \n",
      " 4   AskOpen        445762 non-null  float64       \n",
      " 5   AskHigh        445762 non-null  float64       \n",
      " 6   AskLow         445762 non-null  float64       \n",
      " 7   AskClose       445762 non-null  float64       \n",
      " 8   datetime       445762 non-null  object        \n",
      " 9   temp_datetime  445762 non-null  datetime64[ns]\n",
      "dtypes: datetime64[ns](1), float64(8), object(1)\n",
      "memory usage: 34.0+ MB\n",
      "CPU times: total: 33.6 s\n",
      "Wall time: 38 s\n"
     ]
    }
   ],
   "source": [
    "%%time\n",
    "## Make a temporary datetime type column using pd.to_datetime\n",
    "sp500_min_df['temp_datetime'] = pd.to_datetime(sp500_min_df['datetime'])\n",
    "##Examine the results\n",
    "sp500_min_df.info()"
   ]
  },
  {
   "cell_type": "markdown",
   "id": "bf12bc99",
   "metadata": {},
   "source": [
    "- We can speed up the conversion by specifying the correct time format and setting `infer_datetime_format=False`"
   ]
  },
  {
   "cell_type": "code",
   "execution_count": 19,
   "id": "9faf4a2e",
   "metadata": {
    "ExecuteTime": {
     "end_time": "2023-08-02T01:17:10.035290Z",
     "start_time": "2023-08-02T01:17:10.028789Z"
    }
   },
   "outputs": [
    {
     "data": {
      "text/plain": [
       "'08/01/2023 18:16'"
      ]
     },
     "execution_count": 19,
     "metadata": {},
     "output_type": "execute_result"
    }
   ],
   "source": [
    "## Creating/testing our time format\n",
    "fmt = '%m/%d/%Y %H:%M'\n",
    "today_datetime.strftime(fmt)"
   ]
  },
  {
   "cell_type": "code",
   "execution_count": 20,
   "id": "ceaf9be6",
   "metadata": {
    "ExecuteTime": {
     "end_time": "2023-08-02T01:17:11.265115Z",
     "start_time": "2023-08-02T01:17:10.036287Z"
    }
   },
   "outputs": [
    {
     "name": "stdout",
     "output_type": "stream",
     "text": [
      "<class 'pandas.core.frame.DataFrame'>\n",
      "RangeIndex: 445762 entries, 0 to 445761\n",
      "Data columns (total 10 columns):\n",
      " #   Column         Non-Null Count   Dtype         \n",
      "---  ------         --------------   -----         \n",
      " 0   BidOpen        445762 non-null  float64       \n",
      " 1   BidHigh        445762 non-null  float64       \n",
      " 2   BidLow         445762 non-null  float64       \n",
      " 3   BidClose       445762 non-null  float64       \n",
      " 4   AskOpen        445762 non-null  float64       \n",
      " 5   AskHigh        445762 non-null  float64       \n",
      " 6   AskLow         445762 non-null  float64       \n",
      " 7   AskClose       445762 non-null  float64       \n",
      " 8   datetime       445762 non-null  datetime64[ns]\n",
      " 9   temp_datetime  445762 non-null  datetime64[ns]\n",
      "dtypes: datetime64[ns](2), float64(8)\n",
      "memory usage: 34.0 MB\n",
      "CPU times: total: 969 ms\n",
      "Wall time: 1.22 s\n"
     ]
    }
   ],
   "source": [
    "%%time\n",
    "## Make a datetime index using pd.to_datetime & specifying the format  (to save time)\n",
    "sp500_min_df['datetime'] = pd.to_datetime(sp500_min_df['datetime'],\n",
    "                                         format=fmt)\n",
    "\n",
    "## Drop the temporary datetime column\n",
    "\n",
    "## Check the results\n",
    "sp500_min_df.info()"
   ]
  },
  {
   "cell_type": "code",
   "execution_count": 21,
   "id": "7216d574",
   "metadata": {
    "ExecuteTime": {
     "end_time": "2023-08-02T01:17:11.295054Z",
     "start_time": "2023-08-02T01:17:11.266587Z"
    }
   },
   "outputs": [
    {
     "name": "stdout",
     "output_type": "stream",
     "text": [
      "<class 'pandas.core.frame.DataFrame'>\n",
      "RangeIndex: 445762 entries, 0 to 445761\n",
      "Data columns (total 9 columns):\n",
      " #   Column    Non-Null Count   Dtype         \n",
      "---  ------    --------------   -----         \n",
      " 0   BidOpen   445762 non-null  float64       \n",
      " 1   BidHigh   445762 non-null  float64       \n",
      " 2   BidLow    445762 non-null  float64       \n",
      " 3   BidClose  445762 non-null  float64       \n",
      " 4   AskOpen   445762 non-null  float64       \n",
      " 5   AskHigh   445762 non-null  float64       \n",
      " 6   AskLow    445762 non-null  float64       \n",
      " 7   AskClose  445762 non-null  float64       \n",
      " 8   datetime  445762 non-null  datetime64[ns]\n",
      "dtypes: datetime64[ns](1), float64(8)\n",
      "memory usage: 30.6 MB\n"
     ]
    }
   ],
   "source": [
    "sp500_min_df = sp500_min_df.drop(columns=['temp_datetime'])\n",
    "sp500_min_df.info()"
   ]
  },
  {
   "cell_type": "markdown",
   "id": "fcdc81ee",
   "metadata": {},
   "source": [
    "## <font color='blue'> Step 3: </font> Set Datetime as Index"
   ]
  },
  {
   "cell_type": "code",
   "execution_count": 22,
   "id": "952aaf7e",
   "metadata": {
    "ExecuteTime": {
     "end_time": "2023-08-02T01:17:11.319717Z",
     "start_time": "2023-08-02T01:17:11.297335Z"
    }
   },
   "outputs": [
    {
     "data": {
      "text/plain": [
       "DatetimeIndex(['2018-01-02 09:29:00', '2018-01-02 09:30:00',\n",
       "               '2018-01-02 09:31:00', '2018-01-02 09:32:00',\n",
       "               '2018-01-02 09:33:00', '2018-01-02 09:34:00',\n",
       "               '2018-01-02 09:35:00', '2018-01-02 09:36:00',\n",
       "               '2018-01-02 09:37:00', '2018-01-02 09:38:00',\n",
       "               ...\n",
       "               '2023-01-27 15:51:00', '2023-01-27 15:52:00',\n",
       "               '2023-01-27 15:53:00', '2023-01-27 15:54:00',\n",
       "               '2023-01-27 15:55:00', '2023-01-27 15:56:00',\n",
       "               '2023-01-27 15:57:00', '2023-01-27 15:58:00',\n",
       "               '2023-01-27 15:59:00', '2023-01-27 16:00:00'],\n",
       "              dtype='datetime64[ns]', name='datetime', length=445762, freq=None)"
      ]
     },
     "execution_count": 22,
     "metadata": {},
     "output_type": "execute_result"
    }
   ],
   "source": [
    "## Setting the datetime as the index\n",
    "sp500_min_df = sp500_min_df.set_index('datetime')\n",
    "## Examine the results\n",
    "sp500_min_df.index"
   ]
  },
  {
   "cell_type": "code",
   "execution_count": 23,
   "id": "8f640507",
   "metadata": {
    "ExecuteTime": {
     "end_time": "2023-08-02T01:17:11.336306Z",
     "start_time": "2023-08-02T01:17:11.320824Z"
    }
   },
   "outputs": [
    {
     "data": {
      "text/html": [
       "<div>\n",
       "<style scoped>\n",
       "    .dataframe tbody tr th:only-of-type {\n",
       "        vertical-align: middle;\n",
       "    }\n",
       "\n",
       "    .dataframe tbody tr th {\n",
       "        vertical-align: top;\n",
       "    }\n",
       "\n",
       "    .dataframe thead th {\n",
       "        text-align: right;\n",
       "    }\n",
       "</style>\n",
       "<table border=\"1\" class=\"dataframe\">\n",
       "  <thead>\n",
       "    <tr style=\"text-align: right;\">\n",
       "      <th></th>\n",
       "      <th>BidOpen</th>\n",
       "      <th>BidHigh</th>\n",
       "      <th>BidLow</th>\n",
       "      <th>BidClose</th>\n",
       "      <th>AskOpen</th>\n",
       "      <th>AskHigh</th>\n",
       "      <th>AskLow</th>\n",
       "      <th>AskClose</th>\n",
       "    </tr>\n",
       "    <tr>\n",
       "      <th>datetime</th>\n",
       "      <th></th>\n",
       "      <th></th>\n",
       "      <th></th>\n",
       "      <th></th>\n",
       "      <th></th>\n",
       "      <th></th>\n",
       "      <th></th>\n",
       "      <th></th>\n",
       "    </tr>\n",
       "  </thead>\n",
       "  <tbody>\n",
       "    <tr>\n",
       "      <th>2018-01-02 09:29:00</th>\n",
       "      <td>102.33</td>\n",
       "      <td>102.33</td>\n",
       "      <td>102.33</td>\n",
       "      <td>102.33</td>\n",
       "      <td>102.67</td>\n",
       "      <td>102.67</td>\n",
       "      <td>102.67</td>\n",
       "      <td>102.67</td>\n",
       "    </tr>\n",
       "    <tr>\n",
       "      <th>2018-01-02 09:30:00</th>\n",
       "      <td>102.56</td>\n",
       "      <td>102.56</td>\n",
       "      <td>102.50</td>\n",
       "      <td>102.52</td>\n",
       "      <td>102.75</td>\n",
       "      <td>102.75</td>\n",
       "      <td>102.53</td>\n",
       "      <td>102.53</td>\n",
       "    </tr>\n",
       "    <tr>\n",
       "      <th>2018-01-02 09:31:00</th>\n",
       "      <td>102.51</td>\n",
       "      <td>102.54</td>\n",
       "      <td>102.51</td>\n",
       "      <td>102.53</td>\n",
       "      <td>102.54</td>\n",
       "      <td>102.57</td>\n",
       "      <td>102.54</td>\n",
       "      <td>102.55</td>\n",
       "    </tr>\n",
       "    <tr>\n",
       "      <th>2018-01-02 09:32:00</th>\n",
       "      <td>102.58</td>\n",
       "      <td>102.58</td>\n",
       "      <td>102.58</td>\n",
       "      <td>102.58</td>\n",
       "      <td>102.59</td>\n",
       "      <td>102.59</td>\n",
       "      <td>102.59</td>\n",
       "      <td>102.59</td>\n",
       "    </tr>\n",
       "    <tr>\n",
       "      <th>2018-01-02 09:33:00</th>\n",
       "      <td>102.58</td>\n",
       "      <td>102.58</td>\n",
       "      <td>102.51</td>\n",
       "      <td>102.51</td>\n",
       "      <td>102.59</td>\n",
       "      <td>102.59</td>\n",
       "      <td>102.52</td>\n",
       "      <td>102.52</td>\n",
       "    </tr>\n",
       "    <tr>\n",
       "      <th>...</th>\n",
       "      <td>...</td>\n",
       "      <td>...</td>\n",
       "      <td>...</td>\n",
       "      <td>...</td>\n",
       "      <td>...</td>\n",
       "      <td>...</td>\n",
       "      <td>...</td>\n",
       "      <td>...</td>\n",
       "    </tr>\n",
       "    <tr>\n",
       "      <th>2023-01-27 15:56:00</th>\n",
       "      <td>154.51</td>\n",
       "      <td>154.53</td>\n",
       "      <td>154.45</td>\n",
       "      <td>154.48</td>\n",
       "      <td>154.53</td>\n",
       "      <td>154.54</td>\n",
       "      <td>154.47</td>\n",
       "      <td>154.49</td>\n",
       "    </tr>\n",
       "    <tr>\n",
       "      <th>2023-01-27 15:57:00</th>\n",
       "      <td>154.48</td>\n",
       "      <td>154.51</td>\n",
       "      <td>154.44</td>\n",
       "      <td>154.44</td>\n",
       "      <td>154.49</td>\n",
       "      <td>154.52</td>\n",
       "      <td>154.45</td>\n",
       "      <td>154.45</td>\n",
       "    </tr>\n",
       "    <tr>\n",
       "      <th>2023-01-27 15:58:00</th>\n",
       "      <td>154.44</td>\n",
       "      <td>154.48</td>\n",
       "      <td>154.43</td>\n",
       "      <td>154.46</td>\n",
       "      <td>154.45</td>\n",
       "      <td>154.49</td>\n",
       "      <td>154.44</td>\n",
       "      <td>154.47</td>\n",
       "    </tr>\n",
       "    <tr>\n",
       "      <th>2023-01-27 15:59:00</th>\n",
       "      <td>154.47</td>\n",
       "      <td>154.49</td>\n",
       "      <td>154.41</td>\n",
       "      <td>154.47</td>\n",
       "      <td>154.48</td>\n",
       "      <td>154.50</td>\n",
       "      <td>154.44</td>\n",
       "      <td>154.50</td>\n",
       "    </tr>\n",
       "    <tr>\n",
       "      <th>2023-01-27 16:00:00</th>\n",
       "      <td>154.46</td>\n",
       "      <td>154.46</td>\n",
       "      <td>154.46</td>\n",
       "      <td>154.46</td>\n",
       "      <td>154.49</td>\n",
       "      <td>154.49</td>\n",
       "      <td>154.49</td>\n",
       "      <td>154.49</td>\n",
       "    </tr>\n",
       "  </tbody>\n",
       "</table>\n",
       "<p>445762 rows × 8 columns</p>\n",
       "</div>"
      ],
      "text/plain": [
       "                     BidOpen  BidHigh  BidLow  BidClose  AskOpen  AskHigh  \\\n",
       "datetime                                                                    \n",
       "2018-01-02 09:29:00   102.33   102.33  102.33    102.33   102.67   102.67   \n",
       "2018-01-02 09:30:00   102.56   102.56  102.50    102.52   102.75   102.75   \n",
       "2018-01-02 09:31:00   102.51   102.54  102.51    102.53   102.54   102.57   \n",
       "2018-01-02 09:32:00   102.58   102.58  102.58    102.58   102.59   102.59   \n",
       "2018-01-02 09:33:00   102.58   102.58  102.51    102.51   102.59   102.59   \n",
       "...                      ...      ...     ...       ...      ...      ...   \n",
       "2023-01-27 15:56:00   154.51   154.53  154.45    154.48   154.53   154.54   \n",
       "2023-01-27 15:57:00   154.48   154.51  154.44    154.44   154.49   154.52   \n",
       "2023-01-27 15:58:00   154.44   154.48  154.43    154.46   154.45   154.49   \n",
       "2023-01-27 15:59:00   154.47   154.49  154.41    154.47   154.48   154.50   \n",
       "2023-01-27 16:00:00   154.46   154.46  154.46    154.46   154.49   154.49   \n",
       "\n",
       "                     AskLow  AskClose  \n",
       "datetime                               \n",
       "2018-01-02 09:29:00  102.67    102.67  \n",
       "2018-01-02 09:30:00  102.53    102.53  \n",
       "2018-01-02 09:31:00  102.54    102.55  \n",
       "2018-01-02 09:32:00  102.59    102.59  \n",
       "2018-01-02 09:33:00  102.52    102.52  \n",
       "...                     ...       ...  \n",
       "2023-01-27 15:56:00  154.47    154.49  \n",
       "2023-01-27 15:57:00  154.45    154.45  \n",
       "2023-01-27 15:58:00  154.44    154.47  \n",
       "2023-01-27 15:59:00  154.44    154.50  \n",
       "2023-01-27 16:00:00  154.49    154.49  \n",
       "\n",
       "[445762 rows x 8 columns]"
      ]
     },
     "execution_count": 23,
     "metadata": {},
     "output_type": "execute_result"
    }
   ],
   "source": [
    "sp500_min_df"
   ]
  },
  {
   "cell_type": "code",
   "execution_count": null,
   "id": "d65bb2ec",
   "metadata": {},
   "outputs": [],
   "source": [
    "keys = range(5)\n",
    "values = ['a','b','c','d','e']"
   ]
  },
  {
   "cell_type": "code",
   "execution_count": 85,
   "id": "6e6dfbd8",
   "metadata": {
    "ExecuteTime": {
     "end_time": "2023-08-02T01:36:38.949496Z",
     "start_time": "2023-08-02T01:36:38.935035Z"
    }
   },
   "outputs": [
    {
     "data": {
      "text/html": [
       "<div>\n",
       "<style scoped>\n",
       "    .dataframe tbody tr th:only-of-type {\n",
       "        vertical-align: middle;\n",
       "    }\n",
       "\n",
       "    .dataframe tbody tr th {\n",
       "        vertical-align: top;\n",
       "    }\n",
       "\n",
       "    .dataframe thead th {\n",
       "        text-align: right;\n",
       "    }\n",
       "</style>\n",
       "<table border=\"1\" class=\"dataframe\">\n",
       "  <thead>\n",
       "    <tr style=\"text-align: right;\">\n",
       "      <th></th>\n",
       "      <th>BidClose</th>\n",
       "      <th>AskClose</th>\n",
       "    </tr>\n",
       "    <tr>\n",
       "      <th>datetime</th>\n",
       "      <th></th>\n",
       "      <th></th>\n",
       "    </tr>\n",
       "  </thead>\n",
       "  <tbody>\n",
       "    <tr>\n",
       "      <th>2018-01-02 09:29:00</th>\n",
       "      <td>102.33</td>\n",
       "      <td>102.67</td>\n",
       "    </tr>\n",
       "    <tr>\n",
       "      <th>2018-01-02 09:30:00</th>\n",
       "      <td>102.52</td>\n",
       "      <td>102.53</td>\n",
       "    </tr>\n",
       "    <tr>\n",
       "      <th>2018-01-02 09:31:00</th>\n",
       "      <td>102.53</td>\n",
       "      <td>102.55</td>\n",
       "    </tr>\n",
       "    <tr>\n",
       "      <th>2018-01-02 09:32:00</th>\n",
       "      <td>102.58</td>\n",
       "      <td>102.59</td>\n",
       "    </tr>\n",
       "    <tr>\n",
       "      <th>2018-01-02 09:33:00</th>\n",
       "      <td>102.51</td>\n",
       "      <td>102.52</td>\n",
       "    </tr>\n",
       "    <tr>\n",
       "      <th>...</th>\n",
       "      <td>...</td>\n",
       "      <td>...</td>\n",
       "    </tr>\n",
       "    <tr>\n",
       "      <th>2023-01-27 15:56:00</th>\n",
       "      <td>154.48</td>\n",
       "      <td>154.49</td>\n",
       "    </tr>\n",
       "    <tr>\n",
       "      <th>2023-01-27 15:57:00</th>\n",
       "      <td>154.44</td>\n",
       "      <td>154.45</td>\n",
       "    </tr>\n",
       "    <tr>\n",
       "      <th>2023-01-27 15:58:00</th>\n",
       "      <td>154.46</td>\n",
       "      <td>154.47</td>\n",
       "    </tr>\n",
       "    <tr>\n",
       "      <th>2023-01-27 15:59:00</th>\n",
       "      <td>154.47</td>\n",
       "      <td>154.50</td>\n",
       "    </tr>\n",
       "    <tr>\n",
       "      <th>2023-01-27 16:00:00</th>\n",
       "      <td>154.46</td>\n",
       "      <td>154.49</td>\n",
       "    </tr>\n",
       "  </tbody>\n",
       "</table>\n",
       "<p>445762 rows × 2 columns</p>\n",
       "</div>"
      ],
      "text/plain": [
       "                     BidClose  AskClose\n",
       "datetime                               \n",
       "2018-01-02 09:29:00    102.33    102.67\n",
       "2018-01-02 09:30:00    102.52    102.53\n",
       "2018-01-02 09:31:00    102.53    102.55\n",
       "2018-01-02 09:32:00    102.58    102.59\n",
       "2018-01-02 09:33:00    102.51    102.52\n",
       "...                       ...       ...\n",
       "2023-01-27 15:56:00    154.48    154.49\n",
       "2023-01-27 15:57:00    154.44    154.45\n",
       "2023-01-27 15:58:00    154.46    154.47\n",
       "2023-01-27 15:59:00    154.47    154.50\n",
       "2023-01-27 16:00:00    154.46    154.49\n",
       "\n",
       "[445762 rows x 2 columns]"
      ]
     },
     "execution_count": 85,
     "metadata": {},
     "output_type": "execute_result"
    }
   ],
   "source": [
    "# Only keeping Closing Ask/Bid\n",
    "keep_cols = [c for c in sp500_min_df.columns if 'Close' in c]\n",
    "df_ts = sp500_min_df[keep_cols]\n",
    "\n",
    "df_ts"
   ]
  },
  {
   "cell_type": "code",
   "execution_count": 25,
   "id": "e6a52124",
   "metadata": {
    "ExecuteTime": {
     "end_time": "2023-08-02T01:17:11.356296Z",
     "start_time": "2023-08-02T01:17:11.351794Z"
    }
   },
   "outputs": [
    {
     "data": {
      "text/plain": [
       "DatetimeIndex(['2018-01-02 09:29:00', '2018-01-02 09:30:00',\n",
       "               '2018-01-02 09:31:00', '2018-01-02 09:32:00',\n",
       "               '2018-01-02 09:33:00', '2018-01-02 09:34:00',\n",
       "               '2018-01-02 09:35:00', '2018-01-02 09:36:00',\n",
       "               '2018-01-02 09:37:00', '2018-01-02 09:38:00',\n",
       "               ...\n",
       "               '2023-01-27 15:51:00', '2023-01-27 15:52:00',\n",
       "               '2023-01-27 15:53:00', '2023-01-27 15:54:00',\n",
       "               '2023-01-27 15:55:00', '2023-01-27 15:56:00',\n",
       "               '2023-01-27 15:57:00', '2023-01-27 15:58:00',\n",
       "               '2023-01-27 15:59:00', '2023-01-27 16:00:00'],\n",
       "              dtype='datetime64[ns]', name='datetime', length=445762, freq=None)"
      ]
     },
     "execution_count": 25,
     "metadata": {},
     "output_type": "execute_result"
    }
   ],
   "source": [
    "# check the index to confirm its datetime\n",
    "df_ts.index"
   ]
  },
  {
   "cell_type": "markdown",
   "id": "8854c40f",
   "metadata": {},
   "source": [
    "## 📈 Visualizing Our Time Series DataFrame"
   ]
  },
  {
   "cell_type": "code",
   "execution_count": 26,
   "id": "6d3b7770",
   "metadata": {
    "ExecuteTime": {
     "end_time": "2023-08-02T01:17:13.358702Z",
     "start_time": "2023-08-02T01:17:11.357296Z"
    }
   },
   "outputs": [
    {
     "data": {
      "text/plain": [
       "<Axes: xlabel='datetime'>"
      ]
     },
     "execution_count": 26,
     "metadata": {},
     "output_type": "execute_result"
    },
    {
     "data": {
      "image/png": "[encoded data removed]",
      "text/plain": [
       "<Figure size 640x480 with 1 Axes>"
      ]
     },
     "metadata": {},
     "output_type": "display_data"
    }
   ],
   "source": [
    "## let's visualize our dataframe.\n",
    "df_ts.plot()\n"
   ]
  },
  {
   "cell_type": "markdown",
   "id": "9c362fc4",
   "metadata": {},
   "source": [
    "> Time series visualizations usually require wider figures. "
   ]
  },
  {
   "cell_type": "markdown",
   "id": "7524c068",
   "metadata": {},
   "source": [
    "### Changing Default Figure Size"
   ]
  },
  {
   "cell_type": "code",
   "execution_count": 27,
   "id": "126a5fe1",
   "metadata": {
    "ExecuteTime": {
     "end_time": "2023-08-02T01:17:13.363740Z",
     "start_time": "2023-08-02T01:17:13.359697Z"
    }
   },
   "outputs": [],
   "source": [
    "# check default figsize in rcParams\n",
    "\n"
   ]
  },
  {
   "cell_type": "code",
   "execution_count": 28,
   "id": "4e7f8f3f",
   "metadata": {
    "ExecuteTime": {
     "end_time": "2023-08-02T01:17:13.370651Z",
     "start_time": "2023-08-02T01:17:13.366244Z"
    }
   },
   "outputs": [],
   "source": [
    "## Change the default figure size to something wider (12,5)\n",
    "\n"
   ]
  },
  {
   "cell_type": "code",
   "execution_count": 29,
   "id": "ad679855",
   "metadata": {
    "ExecuteTime": {
     "end_time": "2023-08-02T01:17:15.232272Z",
     "start_time": "2023-08-02T01:17:13.371649Z"
    }
   },
   "outputs": [
    {
     "data": {
      "text/plain": [
       "Text(0.5, 1.0, 'Stock Bids and Asks at Closing')"
      ]
     },
     "execution_count": 29,
     "metadata": {},
     "output_type": "execute_result"
    },
    {
     "data": {
      "image/png": "[encoded data removed]",
      "text/plain": [
       "<Figure size 640x480 with 1 Axes>"
      ]
     },
     "metadata": {},
     "output_type": "display_data"
    }
   ],
   "source": [
    "## recreate the plot\n",
    "ax = df_ts.plot()\n",
    "ax.set_title('Stock Bids and Asks at Closing')"
   ]
  },
  {
   "cell_type": "markdown",
   "id": "4a202b3d",
   "metadata": {},
   "source": [
    "## Slicing (with a Datetime Index)"
   ]
  },
  {
   "cell_type": "code",
   "execution_count": 30,
   "id": "ec678d41",
   "metadata": {
    "ExecuteTime": {
     "end_time": "2023-08-02T01:17:15.287367Z",
     "start_time": "2023-08-02T01:17:15.234267Z"
    },
    "scrolled": false
   },
   "outputs": [
    {
     "data": {
      "text/html": [
       "<div>\n",
       "<style scoped>\n",
       "    .dataframe tbody tr th:only-of-type {\n",
       "        vertical-align: middle;\n",
       "    }\n",
       "\n",
       "    .dataframe tbody tr th {\n",
       "        vertical-align: top;\n",
       "    }\n",
       "\n",
       "    .dataframe thead th {\n",
       "        text-align: right;\n",
       "    }\n",
       "</style>\n",
       "<table border=\"1\" class=\"dataframe\">\n",
       "  <thead>\n",
       "    <tr style=\"text-align: right;\">\n",
       "      <th></th>\n",
       "      <th>BidClose</th>\n",
       "      <th>AskClose</th>\n",
       "    </tr>\n",
       "    <tr>\n",
       "      <th>datetime</th>\n",
       "      <th></th>\n",
       "      <th></th>\n",
       "    </tr>\n",
       "  </thead>\n",
       "  <tbody>\n",
       "    <tr>\n",
       "      <th>2022-01-03 09:30:00</th>\n",
       "      <td>154.47</td>\n",
       "      <td>154.53</td>\n",
       "    </tr>\n",
       "    <tr>\n",
       "      <th>2022-01-03 09:31:00</th>\n",
       "      <td>154.38</td>\n",
       "      <td>154.44</td>\n",
       "    </tr>\n",
       "    <tr>\n",
       "      <th>2022-01-03 09:32:00</th>\n",
       "      <td>154.39</td>\n",
       "      <td>154.39</td>\n",
       "    </tr>\n",
       "    <tr>\n",
       "      <th>2022-01-03 09:33:00</th>\n",
       "      <td>154.51</td>\n",
       "      <td>154.55</td>\n",
       "    </tr>\n",
       "    <tr>\n",
       "      <th>2022-01-03 09:34:00</th>\n",
       "      <td>154.55</td>\n",
       "      <td>154.60</td>\n",
       "    </tr>\n",
       "    <tr>\n",
       "      <th>...</th>\n",
       "      <td>...</td>\n",
       "      <td>...</td>\n",
       "    </tr>\n",
       "    <tr>\n",
       "      <th>2022-12-30 15:56:00</th>\n",
       "      <td>144.98</td>\n",
       "      <td>145.00</td>\n",
       "    </tr>\n",
       "    <tr>\n",
       "      <th>2022-12-30 15:57:00</th>\n",
       "      <td>144.99</td>\n",
       "      <td>145.00</td>\n",
       "    </tr>\n",
       "    <tr>\n",
       "      <th>2022-12-30 15:58:00</th>\n",
       "      <td>145.02</td>\n",
       "      <td>145.03</td>\n",
       "    </tr>\n",
       "    <tr>\n",
       "      <th>2022-12-30 15:59:00</th>\n",
       "      <td>145.08</td>\n",
       "      <td>145.11</td>\n",
       "    </tr>\n",
       "    <tr>\n",
       "      <th>2022-12-30 16:00:00</th>\n",
       "      <td>145.07</td>\n",
       "      <td>145.08</td>\n",
       "    </tr>\n",
       "  </tbody>\n",
       "</table>\n",
       "<p>89642 rows × 2 columns</p>\n",
       "</div>"
      ],
      "text/plain": [
       "                     BidClose  AskClose\n",
       "datetime                               \n",
       "2022-01-03 09:30:00    154.47    154.53\n",
       "2022-01-03 09:31:00    154.38    154.44\n",
       "2022-01-03 09:32:00    154.39    154.39\n",
       "2022-01-03 09:33:00    154.51    154.55\n",
       "2022-01-03 09:34:00    154.55    154.60\n",
       "...                       ...       ...\n",
       "2022-12-30 15:56:00    144.98    145.00\n",
       "2022-12-30 15:57:00    144.99    145.00\n",
       "2022-12-30 15:58:00    145.02    145.03\n",
       "2022-12-30 15:59:00    145.08    145.11\n",
       "2022-12-30 16:00:00    145.07    145.08\n",
       "\n",
       "[89642 rows x 2 columns]"
      ]
     },
     "execution_count": 30,
     "metadata": {},
     "output_type": "execute_result"
    }
   ],
   "source": [
    "## Get all/any dates from 2022\n",
    "df_ts.loc['2022']\n"
   ]
  },
  {
   "cell_type": "code",
   "execution_count": 31,
   "id": "b0122995",
   "metadata": {
    "ExecuteTime": {
     "end_time": "2023-08-02T01:17:15.299367Z",
     "start_time": "2023-08-02T01:17:15.288364Z"
    }
   },
   "outputs": [
    {
     "data": {
      "text/html": [
       "<div>\n",
       "<style scoped>\n",
       "    .dataframe tbody tr th:only-of-type {\n",
       "        vertical-align: middle;\n",
       "    }\n",
       "\n",
       "    .dataframe tbody tr th {\n",
       "        vertical-align: top;\n",
       "    }\n",
       "\n",
       "    .dataframe thead th {\n",
       "        text-align: right;\n",
       "    }\n",
       "</style>\n",
       "<table border=\"1\" class=\"dataframe\">\n",
       "  <thead>\n",
       "    <tr style=\"text-align: right;\">\n",
       "      <th></th>\n",
       "      <th>BidClose</th>\n",
       "      <th>AskClose</th>\n",
       "    </tr>\n",
       "    <tr>\n",
       "      <th>datetime</th>\n",
       "      <th></th>\n",
       "      <th></th>\n",
       "    </tr>\n",
       "  </thead>\n",
       "  <tbody>\n",
       "    <tr>\n",
       "      <th>2022-01-03 09:30:00</th>\n",
       "      <td>154.47</td>\n",
       "      <td>154.53</td>\n",
       "    </tr>\n",
       "    <tr>\n",
       "      <th>2022-01-03 09:31:00</th>\n",
       "      <td>154.38</td>\n",
       "      <td>154.44</td>\n",
       "    </tr>\n",
       "    <tr>\n",
       "      <th>2022-01-03 09:32:00</th>\n",
       "      <td>154.39</td>\n",
       "      <td>154.39</td>\n",
       "    </tr>\n",
       "    <tr>\n",
       "      <th>2022-01-03 09:33:00</th>\n",
       "      <td>154.51</td>\n",
       "      <td>154.55</td>\n",
       "    </tr>\n",
       "    <tr>\n",
       "      <th>2022-01-03 09:34:00</th>\n",
       "      <td>154.55</td>\n",
       "      <td>154.60</td>\n",
       "    </tr>\n",
       "    <tr>\n",
       "      <th>...</th>\n",
       "      <td>...</td>\n",
       "      <td>...</td>\n",
       "    </tr>\n",
       "    <tr>\n",
       "      <th>2022-01-31 15:56:00</th>\n",
       "      <td>151.69</td>\n",
       "      <td>151.72</td>\n",
       "    </tr>\n",
       "    <tr>\n",
       "      <th>2022-01-31 15:57:00</th>\n",
       "      <td>151.74</td>\n",
       "      <td>151.77</td>\n",
       "    </tr>\n",
       "    <tr>\n",
       "      <th>2022-01-31 15:58:00</th>\n",
       "      <td>151.68</td>\n",
       "      <td>151.71</td>\n",
       "    </tr>\n",
       "    <tr>\n",
       "      <th>2022-01-31 15:59:00</th>\n",
       "      <td>151.63</td>\n",
       "      <td>151.66</td>\n",
       "    </tr>\n",
       "    <tr>\n",
       "      <th>2022-01-31 16:00:00</th>\n",
       "      <td>151.63</td>\n",
       "      <td>151.68</td>\n",
       "    </tr>\n",
       "  </tbody>\n",
       "</table>\n",
       "<p>7583 rows × 2 columns</p>\n",
       "</div>"
      ],
      "text/plain": [
       "                     BidClose  AskClose\n",
       "datetime                               \n",
       "2022-01-03 09:30:00    154.47    154.53\n",
       "2022-01-03 09:31:00    154.38    154.44\n",
       "2022-01-03 09:32:00    154.39    154.39\n",
       "2022-01-03 09:33:00    154.51    154.55\n",
       "2022-01-03 09:34:00    154.55    154.60\n",
       "...                       ...       ...\n",
       "2022-01-31 15:56:00    151.69    151.72\n",
       "2022-01-31 15:57:00    151.74    151.77\n",
       "2022-01-31 15:58:00    151.68    151.71\n",
       "2022-01-31 15:59:00    151.63    151.66\n",
       "2022-01-31 16:00:00    151.63    151.68\n",
       "\n",
       "[7583 rows x 2 columns]"
      ]
     },
     "execution_count": 31,
     "metadata": {},
     "output_type": "execute_result"
    }
   ],
   "source": [
    "# Get all of january, 2022\n",
    "df_ts.loc['January 2022']\n"
   ]
  },
  {
   "cell_type": "code",
   "execution_count": 32,
   "id": "e30b641c",
   "metadata": {
    "ExecuteTime": {
     "end_time": "2023-08-02T01:17:15.326303Z",
     "start_time": "2023-08-02T01:17:15.301334Z"
    }
   },
   "outputs": [
    {
     "data": {
      "text/html": [
       "<div>\n",
       "<style scoped>\n",
       "    .dataframe tbody tr th:only-of-type {\n",
       "        vertical-align: middle;\n",
       "    }\n",
       "\n",
       "    .dataframe tbody tr th {\n",
       "        vertical-align: top;\n",
       "    }\n",
       "\n",
       "    .dataframe thead th {\n",
       "        text-align: right;\n",
       "    }\n",
       "</style>\n",
       "<table border=\"1\" class=\"dataframe\">\n",
       "  <thead>\n",
       "    <tr style=\"text-align: right;\">\n",
       "      <th></th>\n",
       "      <th>BidClose</th>\n",
       "      <th>AskClose</th>\n",
       "    </tr>\n",
       "    <tr>\n",
       "      <th>datetime</th>\n",
       "      <th></th>\n",
       "      <th></th>\n",
       "    </tr>\n",
       "  </thead>\n",
       "  <tbody>\n",
       "    <tr>\n",
       "      <th>2022-01-03 09:30:00</th>\n",
       "      <td>154.47</td>\n",
       "      <td>154.53</td>\n",
       "    </tr>\n",
       "    <tr>\n",
       "      <th>2022-01-03 09:31:00</th>\n",
       "      <td>154.38</td>\n",
       "      <td>154.44</td>\n",
       "    </tr>\n",
       "    <tr>\n",
       "      <th>2022-01-03 09:32:00</th>\n",
       "      <td>154.39</td>\n",
       "      <td>154.39</td>\n",
       "    </tr>\n",
       "    <tr>\n",
       "      <th>2022-01-03 09:33:00</th>\n",
       "      <td>154.51</td>\n",
       "      <td>154.55</td>\n",
       "    </tr>\n",
       "    <tr>\n",
       "      <th>2022-01-03 09:34:00</th>\n",
       "      <td>154.55</td>\n",
       "      <td>154.60</td>\n",
       "    </tr>\n",
       "    <tr>\n",
       "      <th>...</th>\n",
       "      <td>...</td>\n",
       "      <td>...</td>\n",
       "    </tr>\n",
       "    <tr>\n",
       "      <th>2022-03-16 15:56:00</th>\n",
       "      <td>149.80</td>\n",
       "      <td>149.83</td>\n",
       "    </tr>\n",
       "    <tr>\n",
       "      <th>2022-03-16 15:57:00</th>\n",
       "      <td>149.76</td>\n",
       "      <td>149.78</td>\n",
       "    </tr>\n",
       "    <tr>\n",
       "      <th>2022-03-16 15:58:00</th>\n",
       "      <td>149.84</td>\n",
       "      <td>149.85</td>\n",
       "    </tr>\n",
       "    <tr>\n",
       "      <th>2022-03-16 15:59:00</th>\n",
       "      <td>150.00</td>\n",
       "      <td>150.04</td>\n",
       "    </tr>\n",
       "    <tr>\n",
       "      <th>2022-03-16 16:00:00</th>\n",
       "      <td>150.08</td>\n",
       "      <td>150.09</td>\n",
       "    </tr>\n",
       "  </tbody>\n",
       "</table>\n",
       "<p>19083 rows × 2 columns</p>\n",
       "</div>"
      ],
      "text/plain": [
       "                     BidClose  AskClose\n",
       "datetime                               \n",
       "2022-01-03 09:30:00    154.47    154.53\n",
       "2022-01-03 09:31:00    154.38    154.44\n",
       "2022-01-03 09:32:00    154.39    154.39\n",
       "2022-01-03 09:33:00    154.51    154.55\n",
       "2022-01-03 09:34:00    154.55    154.60\n",
       "...                       ...       ...\n",
       "2022-03-16 15:56:00    149.80    149.83\n",
       "2022-03-16 15:57:00    149.76    149.78\n",
       "2022-03-16 15:58:00    149.84    149.85\n",
       "2022-03-16 15:59:00    150.00    150.04\n",
       "2022-03-16 16:00:00    150.08    150.09\n",
       "\n",
       "[19083 rows x 2 columns]"
      ]
     },
     "execution_count": 32,
     "metadata": {},
     "output_type": "execute_result"
    }
   ],
   "source": [
    "## Get January 01st, 2022 to March 16th 2022\n",
    "df_ts.loc['01/01/2022':'03/16/2022']\n",
    "\n"
   ]
  },
  {
   "cell_type": "markdown",
   "id": "ec5a4ffe",
   "metadata": {},
   "source": [
    "> Notice the earliest date is 2020-01-03"
   ]
  },
  {
   "cell_type": "code",
   "execution_count": 33,
   "id": "d7b75b36",
   "metadata": {
    "ExecuteTime": {
     "end_time": "2023-08-02T01:17:15.336274Z",
     "start_time": "2023-08-02T01:17:15.328295Z"
    }
   },
   "outputs": [
    {
     "data": {
      "text/plain": [
       "datetime\n",
       "2022-01-03 09:30:00   154.53\n",
       "2022-01-03 09:31:00   154.44\n",
       "2022-01-03 09:32:00   154.39\n",
       "2022-01-03 09:33:00   154.55\n",
       "2022-01-03 09:34:00   154.60\n",
       "                       ...  \n",
       "2022-01-03 15:56:00   154.86\n",
       "2022-01-03 15:57:00   154.90\n",
       "2022-01-03 15:58:00   154.86\n",
       "2022-01-03 15:59:00   155.00\n",
       "2022-01-03 16:00:00   155.02\n",
       "Name: AskClose, Length: 352, dtype: float64"
      ]
     },
     "execution_count": 33,
     "metadata": {},
     "output_type": "execute_result"
    }
   ],
   "source": [
    "## Get just 01/03 - AskClose\n",
    "df_ts.loc['01/03/2022', 'AskClose']\n"
   ]
  },
  {
   "cell_type": "markdown",
   "id": "4aa5f67c",
   "metadata": {},
   "source": [
    "#### We cannot slice out more than 1 <font color=\"red\">NON</font>-continuous date"
   ]
  },
  {
   "cell_type": "code",
   "execution_count": 34,
   "id": "de498fc3",
   "metadata": {
    "ExecuteTime": {
     "end_time": "2023-08-02T01:17:15.344297Z",
     "start_time": "2023-08-02T01:17:15.338309Z"
    }
   },
   "outputs": [
    {
     "data": {
      "text/plain": [
       "KeyError(\"None of [Index(['01/03/2022', '01/05/2022'], dtype='object', name='datetime')] are in the [index]\")"
      ]
     },
     "metadata": {},
     "output_type": "display_data"
    }
   ],
   "source": [
    "dates_to_keep = ['01/03/2022','01/05/2022']\n",
    "try: \n",
    "    df_ts.loc[dates_to_keep]\n",
    "except Exception as e:\n",
    "    display(e)"
   ]
  },
  {
   "cell_type": "code",
   "execution_count": 35,
   "id": "1d78cfbc",
   "metadata": {
    "ExecuteTime": {
     "end_time": "2023-08-02T01:17:15.349289Z",
     "start_time": "2023-08-02T01:17:15.345294Z"
    }
   },
   "outputs": [],
   "source": [
    "## But can use multiple .loc's in a loop or list comprehension\n",
    "\n"
   ]
  },
  {
   "cell_type": "code",
   "execution_count": 36,
   "id": "099cd69e",
   "metadata": {
    "ExecuteTime": {
     "end_time": "2023-08-02T01:17:15.685184Z",
     "start_time": "2023-08-02T01:17:15.351284Z"
    }
   },
   "outputs": [
    {
     "data": {
      "text/plain": [
       "<Axes: xlabel='datetime'>"
      ]
     },
     "execution_count": 36,
     "metadata": {},
     "output_type": "execute_result"
    },
    {
     "data": {
      "image/png": "[encoded data removed]",
      "text/plain": [
       "<Figure size 640x480 with 1 Axes>"
      ]
     },
     "metadata": {},
     "output_type": "display_data"
    }
   ],
   "source": [
    "## saving ts to return to later\n",
    "stock_ts = df_ts.loc['2020','AskClose'].copy()\n",
    "stock_ts.plot()"
   ]
  },
  {
   "cell_type": "code",
   "execution_count": 37,
   "id": "786dd5b8",
   "metadata": {
    "ExecuteTime": {
     "end_time": "2023-08-02T01:17:15.699406Z",
     "start_time": "2023-08-02T01:17:15.687312Z"
    }
   },
   "outputs": [
    {
     "data": {
      "text/html": [
       "<div>\n",
       "<style scoped>\n",
       "    .dataframe tbody tr th:only-of-type {\n",
       "        vertical-align: middle;\n",
       "    }\n",
       "\n",
       "    .dataframe tbody tr th {\n",
       "        vertical-align: top;\n",
       "    }\n",
       "\n",
       "    .dataframe thead th {\n",
       "        text-align: right;\n",
       "    }\n",
       "</style>\n",
       "<table border=\"1\" class=\"dataframe\">\n",
       "  <thead>\n",
       "    <tr style=\"text-align: right;\">\n",
       "      <th></th>\n",
       "      <th>BidClose</th>\n",
       "      <th>AskClose</th>\n",
       "    </tr>\n",
       "    <tr>\n",
       "      <th>datetime</th>\n",
       "      <th></th>\n",
       "      <th></th>\n",
       "    </tr>\n",
       "  </thead>\n",
       "  <tbody>\n",
       "    <tr>\n",
       "      <th>2020-03-20 09:26:00</th>\n",
       "      <td>80.04</td>\n",
       "      <td>88.83</td>\n",
       "    </tr>\n",
       "    <tr>\n",
       "      <th>2020-03-20 09:30:00</th>\n",
       "      <td>85.67</td>\n",
       "      <td>85.86</td>\n",
       "    </tr>\n",
       "    <tr>\n",
       "      <th>2020-03-20 09:31:00</th>\n",
       "      <td>85.30</td>\n",
       "      <td>85.54</td>\n",
       "    </tr>\n",
       "    <tr>\n",
       "      <th>2020-03-20 09:32:00</th>\n",
       "      <td>85.48</td>\n",
       "      <td>85.63</td>\n",
       "    </tr>\n",
       "    <tr>\n",
       "      <th>2020-03-20 09:33:00</th>\n",
       "      <td>85.55</td>\n",
       "      <td>85.70</td>\n",
       "    </tr>\n",
       "    <tr>\n",
       "      <th>...</th>\n",
       "      <td>...</td>\n",
       "      <td>...</td>\n",
       "    </tr>\n",
       "    <tr>\n",
       "      <th>2020-03-27 15:57:00</th>\n",
       "      <td>90.16</td>\n",
       "      <td>90.21</td>\n",
       "    </tr>\n",
       "    <tr>\n",
       "      <th>2020-03-27 15:58:00</th>\n",
       "      <td>90.06</td>\n",
       "      <td>90.16</td>\n",
       "    </tr>\n",
       "    <tr>\n",
       "      <th>2020-03-27 15:59:00</th>\n",
       "      <td>90.20</td>\n",
       "      <td>90.30</td>\n",
       "    </tr>\n",
       "    <tr>\n",
       "      <th>2020-03-27 16:00:00</th>\n",
       "      <td>90.20</td>\n",
       "      <td>90.28</td>\n",
       "    </tr>\n",
       "    <tr>\n",
       "      <th>2020-03-27 16:17:00</th>\n",
       "      <td>88.85</td>\n",
       "      <td>91.24</td>\n",
       "    </tr>\n",
       "  </tbody>\n",
       "</table>\n",
       "<p>2360 rows × 2 columns</p>\n",
       "</div>"
      ],
      "text/plain": [
       "                     BidClose  AskClose\n",
       "datetime                               \n",
       "2020-03-20 09:26:00     80.04     88.83\n",
       "2020-03-20 09:30:00     85.67     85.86\n",
       "2020-03-20 09:31:00     85.30     85.54\n",
       "2020-03-20 09:32:00     85.48     85.63\n",
       "2020-03-20 09:33:00     85.55     85.70\n",
       "...                       ...       ...\n",
       "2020-03-27 15:57:00     90.16     90.21\n",
       "2020-03-27 15:58:00     90.06     90.16\n",
       "2020-03-27 15:59:00     90.20     90.30\n",
       "2020-03-27 16:00:00     90.20     90.28\n",
       "2020-03-27 16:17:00     88.85     91.24\n",
       "\n",
       "[2360 rows x 2 columns]"
      ]
     },
     "execution_count": 37,
     "metadata": {},
     "output_type": "execute_result"
    }
   ],
   "source": [
    "## Slicing out the timeperiod for one week in March\n",
    "eda_ts = df_ts.loc['3/20/2020':'3/28/2020']\n",
    "eda_ts"
   ]
  },
  {
   "cell_type": "code",
   "execution_count": 38,
   "id": "28f834c9",
   "metadata": {
    "ExecuteTime": {
     "end_time": "2023-08-02T01:17:15.995321Z",
     "start_time": "2023-08-02T01:17:15.701406Z"
    }
   },
   "outputs": [
    {
     "data": {
      "text/plain": [
       "Text(0.5, 1.0, 'Plot of March 20th 2020 to March 28th, 2020')"
      ]
     },
     "execution_count": 38,
     "metadata": {},
     "output_type": "execute_result"
    },
    {
     "data": {
      "image/png": "[encoded data removed]",
      "text/plain": [
       "<Figure size 640x480 with 1 Axes>"
      ]
     },
     "metadata": {},
     "output_type": "display_data"
    }
   ],
   "source": [
    "ax = eda_ts.plot()\n",
    "ax.set_title('Plot of March 20th 2020 to March 28th, 2020')"
   ]
  },
  {
   "cell_type": "markdown",
   "id": "397d3214",
   "metadata": {},
   "source": [
    "#### 🧠 Why are there gaps in the data above?"
   ]
  },
  {
   "cell_type": "code",
   "execution_count": 39,
   "id": "5a6952a2",
   "metadata": {
    "ExecuteTime": {
     "end_time": "2023-08-02T01:17:29.286417Z",
     "start_time": "2023-08-02T01:17:29.279404Z"
    }
   },
   "outputs": [
    {
     "data": {
      "text/plain": [
       "BidClose    0\n",
       "AskClose    0\n",
       "dtype: int64"
      ]
     },
     "execution_count": 39,
     "metadata": {},
     "output_type": "execute_result"
    }
   ],
   "source": [
    "## Check for nulls in eda_ts...\n",
    "eda_ts.isna().sum()"
   ]
  },
  {
   "cell_type": "markdown",
   "id": "fdcdfbf6",
   "metadata": {},
   "source": [
    "> What day of the week were the days missing data?"
   ]
  },
  {
   "cell_type": "code",
   "execution_count": null,
   "id": "5f872a99",
   "metadata": {
    "ExecuteTime": {
     "end_time": "2023-07-03T23:49:35.186435Z",
     "start_time": "2023-07-03T23:49:35.182946Z"
    }
   },
   "outputs": [],
   "source": [
    "## what day of the week were the days missing data?\n",
    "\n"
   ]
  },
  {
   "cell_type": "code",
   "execution_count": null,
   "id": "4e6ba303",
   "metadata": {
    "ExecuteTime": {
     "end_time": "2023-07-03T23:49:48.053314Z",
     "start_time": "2023-07-03T23:49:48.047358Z"
    }
   },
   "outputs": [],
   "source": [
    "## What is the other day?\n"
   ]
  },
  {
   "cell_type": "markdown",
   "id": "99ec8e94",
   "metadata": {},
   "source": [
    "#### 🧠 Is this date regular or irregular?"
   ]
  },
  {
   "cell_type": "markdown",
   "id": "317d0218",
   "metadata": {},
   "source": [
    "## <font color='blue'> Step 4: </font>Resampling to Desired Frequency"
   ]
  },
  {
   "cell_type": "markdown",
   "id": "d82e29a1",
   "metadata": {},
   "source": [
    "### Pandas Frequency Codes\n",
    "\n",
    "![pandas frequency codes](pandas_freq_cheatsheet.png)"
   ]
  },
  {
   "cell_type": "code",
   "execution_count": 204,
   "id": "868414ef",
   "metadata": {
    "ExecuteTime": {
     "end_time": "2023-08-02T01:15:10.776535Z",
     "start_time": "2023-08-02T01:15:10.769556Z"
    }
   },
   "outputs": [
    {
     "data": {
      "text/plain": [
       "DatetimeIndex(['2018-01-02 09:29:00', '2018-01-02 09:30:00',\n",
       "               '2018-01-02 09:31:00', '2018-01-02 09:32:00',\n",
       "               '2018-01-02 09:33:00', '2018-01-02 09:34:00',\n",
       "               '2018-01-02 09:35:00', '2018-01-02 09:36:00',\n",
       "               '2018-01-02 09:37:00', '2018-01-02 09:38:00',\n",
       "               ...\n",
       "               '2023-01-27 15:51:00', '2023-01-27 15:52:00',\n",
       "               '2023-01-27 15:53:00', '2023-01-27 15:54:00',\n",
       "               '2023-01-27 15:55:00', '2023-01-27 15:56:00',\n",
       "               '2023-01-27 15:57:00', '2023-01-27 15:58:00',\n",
       "               '2023-01-27 15:59:00', '2023-01-27 16:00:00'],\n",
       "              dtype='datetime64[ns]', name='datetime', length=445762, freq=None)"
      ]
     },
     "execution_count": 204,
     "metadata": {},
     "output_type": "execute_result"
    }
   ],
   "source": [
    "## what is our datetime index's frequency?\n",
    "df_ts.index\n"
   ]
  },
  {
   "cell_type": "code",
   "execution_count": 47,
   "id": "9748c32c",
   "metadata": {
    "ExecuteTime": {
     "end_time": "2023-08-02T01:20:11.418714Z",
     "start_time": "2023-08-02T01:20:11.408280Z"
    }
   },
   "outputs": [
    {
     "data": {
      "text/html": [
       "<div>\n",
       "<style scoped>\n",
       "    .dataframe tbody tr th:only-of-type {\n",
       "        vertical-align: middle;\n",
       "    }\n",
       "\n",
       "    .dataframe tbody tr th {\n",
       "        vertical-align: top;\n",
       "    }\n",
       "\n",
       "    .dataframe thead th {\n",
       "        text-align: right;\n",
       "    }\n",
       "</style>\n",
       "<table border=\"1\" class=\"dataframe\">\n",
       "  <thead>\n",
       "    <tr style=\"text-align: right;\">\n",
       "      <th></th>\n",
       "      <th>BidClose</th>\n",
       "      <th>AskClose</th>\n",
       "    </tr>\n",
       "    <tr>\n",
       "      <th>datetime</th>\n",
       "      <th></th>\n",
       "      <th></th>\n",
       "    </tr>\n",
       "  </thead>\n",
       "  <tbody>\n",
       "    <tr>\n",
       "      <th>2020-03-20 09:26:00</th>\n",
       "      <td>80.04</td>\n",
       "      <td>88.83</td>\n",
       "    </tr>\n",
       "    <tr>\n",
       "      <th>2020-03-20 09:27:00</th>\n",
       "      <td>NaN</td>\n",
       "      <td>NaN</td>\n",
       "    </tr>\n",
       "    <tr>\n",
       "      <th>2020-03-20 09:28:00</th>\n",
       "      <td>NaN</td>\n",
       "      <td>NaN</td>\n",
       "    </tr>\n",
       "    <tr>\n",
       "      <th>2020-03-20 09:29:00</th>\n",
       "      <td>NaN</td>\n",
       "      <td>NaN</td>\n",
       "    </tr>\n",
       "    <tr>\n",
       "      <th>2020-03-20 09:30:00</th>\n",
       "      <td>85.67</td>\n",
       "      <td>85.86</td>\n",
       "    </tr>\n",
       "  </tbody>\n",
       "</table>\n",
       "</div>"
      ],
      "text/plain": [
       "                     BidClose  AskClose\n",
       "datetime                               \n",
       "2020-03-20 09:26:00     80.04     88.83\n",
       "2020-03-20 09:27:00       NaN       NaN\n",
       "2020-03-20 09:28:00       NaN       NaN\n",
       "2020-03-20 09:29:00       NaN       NaN\n",
       "2020-03-20 09:30:00     85.67     85.86"
      ]
     },
     "execution_count": 47,
     "metadata": {},
     "output_type": "execute_result"
    }
   ],
   "source": [
    "## Resample as last value by minute\n",
    "ts_min = eda_ts.resample('min').last()\n",
    "ts_min.head()"
   ]
  },
  {
   "cell_type": "code",
   "execution_count": 48,
   "id": "2239b6aa",
   "metadata": {
    "ExecuteTime": {
     "end_time": "2023-08-02T01:20:13.436203Z",
     "start_time": "2023-08-02T01:20:13.431110Z"
    }
   },
   "outputs": [
    {
     "data": {
      "text/plain": [
       "DatetimeIndex(['2020-03-20 09:26:00', '2020-03-20 09:27:00',\n",
       "               '2020-03-20 09:28:00', '2020-03-20 09:29:00',\n",
       "               '2020-03-20 09:30:00', '2020-03-20 09:31:00',\n",
       "               '2020-03-20 09:32:00', '2020-03-20 09:33:00',\n",
       "               '2020-03-20 09:34:00', '2020-03-20 09:35:00',\n",
       "               ...\n",
       "               '2020-03-27 16:08:00', '2020-03-27 16:09:00',\n",
       "               '2020-03-27 16:10:00', '2020-03-27 16:11:00',\n",
       "               '2020-03-27 16:12:00', '2020-03-27 16:13:00',\n",
       "               '2020-03-27 16:14:00', '2020-03-27 16:15:00',\n",
       "               '2020-03-27 16:16:00', '2020-03-27 16:17:00'],\n",
       "              dtype='datetime64[ns]', name='datetime', length=10492, freq='T')"
      ]
     },
     "execution_count": 48,
     "metadata": {},
     "output_type": "execute_result"
    }
   ],
   "source": [
    "## check the index\n",
    "ts_min.index"
   ]
  },
  {
   "cell_type": "code",
   "execution_count": 49,
   "id": "4bac83ad",
   "metadata": {
    "ExecuteTime": {
     "end_time": "2023-08-02T01:20:14.861184Z",
     "start_time": "2023-08-02T01:20:14.855183Z"
    }
   },
   "outputs": [
    {
     "data": {
      "text/plain": [
       "(2360, 2)"
      ]
     },
     "execution_count": 49,
     "metadata": {},
     "output_type": "execute_result"
    }
   ],
   "source": [
    "## Check the original data shape\n",
    "eda_ts.shape"
   ]
  },
  {
   "cell_type": "code",
   "execution_count": 50,
   "id": "1323fb7e",
   "metadata": {
    "ExecuteTime": {
     "end_time": "2023-08-02T01:20:15.037085Z",
     "start_time": "2023-08-02T01:20:15.031561Z"
    }
   },
   "outputs": [
    {
     "data": {
      "text/plain": [
       "BidClose    0\n",
       "AskClose    0\n",
       "dtype: int64"
      ]
     },
     "execution_count": 50,
     "metadata": {},
     "output_type": "execute_result"
    }
   ],
   "source": [
    "## Check for original data NAs\n",
    "eda_ts.isna().sum()"
   ]
  },
  {
   "cell_type": "code",
   "execution_count": 51,
   "id": "ca172a3e",
   "metadata": {
    "ExecuteTime": {
     "end_time": "2023-08-02T01:20:15.205580Z",
     "start_time": "2023-08-02T01:20:15.200335Z"
    }
   },
   "outputs": [
    {
     "data": {
      "text/plain": [
       "(10492, 2)"
      ]
     },
     "execution_count": 51,
     "metadata": {},
     "output_type": "execute_result"
    }
   ],
   "source": [
    "## Check new data shape\n",
    "ts_min.shape"
   ]
  },
  {
   "cell_type": "code",
   "execution_count": 52,
   "id": "8fa358ff",
   "metadata": {
    "ExecuteTime": {
     "end_time": "2023-08-02T01:20:15.375078Z",
     "start_time": "2023-08-02T01:20:15.368655Z"
    }
   },
   "outputs": [
    {
     "data": {
      "text/plain": [
       "BidClose    8132\n",
       "AskClose    8132\n",
       "dtype: int64"
      ]
     },
     "execution_count": 52,
     "metadata": {},
     "output_type": "execute_result"
    }
   ],
   "source": [
    "## Check new data for NAs\n",
    "ts_min.isna().sum()"
   ]
  },
  {
   "cell_type": "markdown",
   "id": "2df9eead",
   "metadata": {},
   "source": [
    "Why are there missing values now?"
   ]
  },
  {
   "cell_type": "code",
   "execution_count": 53,
   "id": "9027cddb",
   "metadata": {
    "ExecuteTime": {
     "end_time": "2023-08-02T01:20:16.517485Z",
     "start_time": "2023-08-02T01:20:16.254177Z"
    }
   },
   "outputs": [
    {
     "data": {
      "text/plain": [
       "<Axes: xlabel='datetime'>"
      ]
     },
     "execution_count": 53,
     "metadata": {},
     "output_type": "execute_result"
    },
    {
     "data": {
      "image/png": "[encoded data removed]",
      "text/plain": [
       "<Figure size 640x480 with 1 Axes>"
      ]
     },
     "metadata": {},
     "output_type": "display_data"
    }
   ],
   "source": [
    "# Plot resampled data\n",
    "ts_min.plot()"
   ]
  },
  {
   "cell_type": "markdown",
   "id": "fd41f469",
   "metadata": {},
   "source": [
    "## <font color='blue'> Step 5: </font>Imputing Null Values (time series style!)"
   ]
  },
  {
   "cell_type": "markdown",
   "id": "99adab43",
   "metadata": {},
   "source": [
    "### Backfill `.fillna(method='bfill')`"
   ]
  },
  {
   "cell_type": "code",
   "execution_count": 56,
   "id": "55bacea6",
   "metadata": {
    "ExecuteTime": {
     "end_time": "2023-08-02T01:21:01.006118Z",
     "start_time": "2023-08-02T01:21:00.638966Z"
    }
   },
   "outputs": [
    {
     "data": {
      "image/png": "[encoded data removed]",
      "text/plain": [
       "<Figure size 640x480 with 1 Axes>"
      ]
     },
     "metadata": {},
     "output_type": "display_data"
    }
   ],
   "source": [
    "# Fill with back fill\n",
    "ts_bfill = ts_min.fillna(method='bfill')\n",
    "#plot backfilled data\n",
    "ax = ts_bfill.plot(style='.-')\n",
    "ax.axvspan('2020-03-21','2020-03-23',alpha=0.5)\n",
    "ax.set(title='bfill', ylabel=\"Stock Price\");"
   ]
  },
  {
   "cell_type": "markdown",
   "id": "1cac9dcb",
   "metadata": {},
   "source": [
    "### Forward Fill `.fillna(method='ffill')`"
   ]
  },
  {
   "cell_type": "code",
   "execution_count": null,
   "id": "d181e291",
   "metadata": {
    "ExecuteTime": {
     "end_time": "2023-07-03T23:53:21.485208Z",
     "start_time": "2023-07-03T23:53:21.190304Z"
    }
   },
   "outputs": [],
   "source": [
    "# Fill with forward fill\n",
    "\n",
    "#plot forward data\n",
    "ax = ts_ffill.plot(style='.-')\n",
    "ax.axvspan('2020-03-21','2020-03-23',alpha=0.5)\n",
    "ax.set(title='ffill', ylabel=\"Stock Price\");"
   ]
  },
  {
   "cell_type": "markdown",
   "id": "b56782a5",
   "metadata": {},
   "source": [
    "### Interpolate `.interpolate()`"
   ]
  },
  {
   "cell_type": "code",
   "execution_count": null,
   "id": "e1d0a667",
   "metadata": {
    "ExecuteTime": {
     "end_time": "2023-07-03T23:53:49.057102Z",
     "start_time": "2023-07-03T23:53:48.768504Z"
    }
   },
   "outputs": [],
   "source": [
    "# Interpolate missing data\n",
    "\n",
    "# Plot interpolated data\n",
    "ax = ts_interpolate.plot(style='.-')\n",
    "ax.axvspan('2020-03-21','2020-03-23',alpha=0.5)\n",
    "ax.set(title='interpolate', ylabel=\"Stock Price\");"
   ]
  },
  {
   "cell_type": "markdown",
   "id": "c2f34c35",
   "metadata": {},
   "source": [
    "# Working with Wide-Form Time Series Data\n",
    "\n",
    "## <font color='blue'> Step 1 </font>: Convert datetime to One Column"
   ]
  },
  {
   "cell_type": "code",
   "execution_count": 58,
   "id": "62f836ca",
   "metadata": {
    "ExecuteTime": {
     "end_time": "2023-08-02T01:22:01.997457Z",
     "start_time": "2023-08-02T01:22:01.904110Z"
    }
   },
   "outputs": [
    {
     "data": {
      "text/html": [
       "<div>\n",
       "<style scoped>\n",
       "    .dataframe tbody tr th:only-of-type {\n",
       "        vertical-align: middle;\n",
       "    }\n",
       "\n",
       "    .dataframe tbody tr th {\n",
       "        vertical-align: top;\n",
       "    }\n",
       "\n",
       "    .dataframe thead th {\n",
       "        text-align: right;\n",
       "    }\n",
       "</style>\n",
       "<table border=\"1\" class=\"dataframe\">\n",
       "  <thead>\n",
       "    <tr style=\"text-align: right;\">\n",
       "      <th></th>\n",
       "      <th>CryptoCurrency</th>\n",
       "      <th>Symbol</th>\n",
       "      <th>Currency</th>\n",
       "      <th>2014-09-17</th>\n",
       "      <th>2014-09-18</th>\n",
       "      <th>2014-09-19</th>\n",
       "      <th>2014-09-20</th>\n",
       "      <th>2014-09-21</th>\n",
       "      <th>2014-09-22</th>\n",
       "      <th>2014-09-23</th>\n",
       "      <th>...</th>\n",
       "      <th>2023-01-17</th>\n",
       "      <th>2023-01-18</th>\n",
       "      <th>2023-01-19</th>\n",
       "      <th>2023-01-20</th>\n",
       "      <th>2023-01-21</th>\n",
       "      <th>2023-01-22</th>\n",
       "      <th>2023-01-23</th>\n",
       "      <th>2023-01-24</th>\n",
       "      <th>2023-01-25</th>\n",
       "      <th>2023-01-26</th>\n",
       "    </tr>\n",
       "  </thead>\n",
       "  <tbody>\n",
       "    <tr>\n",
       "      <th>0</th>\n",
       "      <td>Bitcoin</td>\n",
       "      <td>BTC-USD</td>\n",
       "      <td>BTC</td>\n",
       "      <td>457.33</td>\n",
       "      <td>424.44</td>\n",
       "      <td>394.80</td>\n",
       "      <td>408.90</td>\n",
       "      <td>398.82</td>\n",
       "      <td>402.15</td>\n",
       "      <td>435.79</td>\n",
       "      <td>...</td>\n",
       "      <td>21,161.52</td>\n",
       "      <td>20,688.78</td>\n",
       "      <td>21,086.79</td>\n",
       "      <td>22,676.55</td>\n",
       "      <td>22,777.62</td>\n",
       "      <td>22,720.42</td>\n",
       "      <td>22,934.43</td>\n",
       "      <td>22,636.47</td>\n",
       "      <td>23,117.86</td>\n",
       "      <td>23,032.78</td>\n",
       "    </tr>\n",
       "    <tr>\n",
       "      <th>1</th>\n",
       "      <td>Etherium</td>\n",
       "      <td>ETH-USD</td>\n",
       "      <td>ETH</td>\n",
       "      <td>NaN</td>\n",
       "      <td>NaN</td>\n",
       "      <td>NaN</td>\n",
       "      <td>NaN</td>\n",
       "      <td>NaN</td>\n",
       "      <td>NaN</td>\n",
       "      <td>NaN</td>\n",
       "      <td>...</td>\n",
       "      <td>1,567.85</td>\n",
       "      <td>1,515.51</td>\n",
       "      <td>1,552.56</td>\n",
       "      <td>1,659.75</td>\n",
       "      <td>1,627.12</td>\n",
       "      <td>1,628.38</td>\n",
       "      <td>1,628.25</td>\n",
       "      <td>1,556.60</td>\n",
       "      <td>1,611.71</td>\n",
       "      <td>1,603.11</td>\n",
       "    </tr>\n",
       "    <tr>\n",
       "      <th>2</th>\n",
       "      <td>Dogecoin</td>\n",
       "      <td>DOGE-USD</td>\n",
       "      <td>DOGE</td>\n",
       "      <td>NaN</td>\n",
       "      <td>NaN</td>\n",
       "      <td>NaN</td>\n",
       "      <td>NaN</td>\n",
       "      <td>NaN</td>\n",
       "      <td>NaN</td>\n",
       "      <td>NaN</td>\n",
       "      <td>...</td>\n",
       "      <td>0.08</td>\n",
       "      <td>0.08</td>\n",
       "      <td>0.08</td>\n",
       "      <td>0.09</td>\n",
       "      <td>0.08</td>\n",
       "      <td>0.09</td>\n",
       "      <td>0.09</td>\n",
       "      <td>0.08</td>\n",
       "      <td>0.09</td>\n",
       "      <td>0.09</td>\n",
       "    </tr>\n",
       "  </tbody>\n",
       "</table>\n",
       "<p>3 rows × 3057 columns</p>\n",
       "</div>"
      ],
      "text/plain": [
       "  CryptoCurrency    Symbol Currency  2014-09-17  2014-09-18  2014-09-19  \\\n",
       "0        Bitcoin   BTC-USD      BTC      457.33      424.44      394.80   \n",
       "1       Etherium   ETH-USD      ETH         NaN         NaN         NaN   \n",
       "2       Dogecoin  DOGE-USD     DOGE         NaN         NaN         NaN   \n",
       "\n",
       "   2014-09-20  2014-09-21  2014-09-22  2014-09-23  ...  2023-01-17  \\\n",
       "0      408.90      398.82      402.15      435.79  ...   21,161.52   \n",
       "1         NaN         NaN         NaN         NaN  ...    1,567.85   \n",
       "2         NaN         NaN         NaN         NaN  ...        0.08   \n",
       "\n",
       "   2023-01-18  2023-01-19  2023-01-20  2023-01-21  2023-01-22  2023-01-23  \\\n",
       "0   20,688.78   21,086.79   22,676.55   22,777.62   22,720.42   22,934.43   \n",
       "1    1,515.51    1,552.56    1,659.75    1,627.12    1,628.38    1,628.25   \n",
       "2        0.08        0.08        0.09        0.08        0.09        0.09   \n",
       "\n",
       "   2023-01-24  2023-01-25  2023-01-26  \n",
       "0   22,636.47   23,117.86   23,032.78  \n",
       "1    1,556.60    1,611.71    1,603.11  \n",
       "2        0.08        0.09        0.09  \n",
       "\n",
       "[3 rows x 3057 columns]"
      ]
     },
     "execution_count": 58,
     "metadata": {},
     "output_type": "execute_result"
    }
   ],
   "source": [
    "crypto = pd.read_csv(\"Data/stocks/wide-form-crypto.csv\")\n",
    "crypto"
   ]
  },
  {
   "cell_type": "code",
   "execution_count": 59,
   "id": "c79e5650",
   "metadata": {
    "ExecuteTime": {
     "end_time": "2023-08-02T01:22:35.533960Z",
     "start_time": "2023-08-02T01:22:35.527973Z"
    }
   },
   "outputs": [
    {
     "data": {
      "text/plain": [
       "Index(['CryptoCurrency', 'Symbol', 'Currency'], dtype='object')"
      ]
     },
     "execution_count": 59,
     "metadata": {},
     "output_type": "execute_result"
    }
   ],
   "source": [
    "## First 3 columns are id columns.  set to id_vars\n",
    "id_vars = crypto.columns[:3]\n",
    "id_vars"
   ]
  },
  {
   "cell_type": "code",
   "execution_count": 60,
   "id": "6b74af60",
   "metadata": {
    "ExecuteTime": {
     "end_time": "2023-08-02T01:23:09.393487Z",
     "start_time": "2023-08-02T01:23:09.377064Z"
    }
   },
   "outputs": [
    {
     "data": {
      "text/html": [
       "<div>\n",
       "<style scoped>\n",
       "    .dataframe tbody tr th:only-of-type {\n",
       "        vertical-align: middle;\n",
       "    }\n",
       "\n",
       "    .dataframe tbody tr th {\n",
       "        vertical-align: top;\n",
       "    }\n",
       "\n",
       "    .dataframe thead th {\n",
       "        text-align: right;\n",
       "    }\n",
       "</style>\n",
       "<table border=\"1\" class=\"dataframe\">\n",
       "  <thead>\n",
       "    <tr style=\"text-align: right;\">\n",
       "      <th></th>\n",
       "      <th>CryptoCurrency</th>\n",
       "      <th>Symbol</th>\n",
       "      <th>Currency</th>\n",
       "      <th>Date</th>\n",
       "      <th>Value</th>\n",
       "    </tr>\n",
       "  </thead>\n",
       "  <tbody>\n",
       "    <tr>\n",
       "      <th>0</th>\n",
       "      <td>Bitcoin</td>\n",
       "      <td>BTC-USD</td>\n",
       "      <td>BTC</td>\n",
       "      <td>2014-09-17</td>\n",
       "      <td>457.33</td>\n",
       "    </tr>\n",
       "    <tr>\n",
       "      <th>1</th>\n",
       "      <td>Etherium</td>\n",
       "      <td>ETH-USD</td>\n",
       "      <td>ETH</td>\n",
       "      <td>2014-09-17</td>\n",
       "      <td>NaN</td>\n",
       "    </tr>\n",
       "    <tr>\n",
       "      <th>2</th>\n",
       "      <td>Dogecoin</td>\n",
       "      <td>DOGE-USD</td>\n",
       "      <td>DOGE</td>\n",
       "      <td>2014-09-17</td>\n",
       "      <td>NaN</td>\n",
       "    </tr>\n",
       "    <tr>\n",
       "      <th>3</th>\n",
       "      <td>Bitcoin</td>\n",
       "      <td>BTC-USD</td>\n",
       "      <td>BTC</td>\n",
       "      <td>2014-09-18</td>\n",
       "      <td>424.44</td>\n",
       "    </tr>\n",
       "    <tr>\n",
       "      <th>4</th>\n",
       "      <td>Etherium</td>\n",
       "      <td>ETH-USD</td>\n",
       "      <td>ETH</td>\n",
       "      <td>2014-09-18</td>\n",
       "      <td>NaN</td>\n",
       "    </tr>\n",
       "    <tr>\n",
       "      <th>...</th>\n",
       "      <td>...</td>\n",
       "      <td>...</td>\n",
       "      <td>...</td>\n",
       "      <td>...</td>\n",
       "      <td>...</td>\n",
       "    </tr>\n",
       "    <tr>\n",
       "      <th>9157</th>\n",
       "      <td>Etherium</td>\n",
       "      <td>ETH-USD</td>\n",
       "      <td>ETH</td>\n",
       "      <td>2023-01-25</td>\n",
       "      <td>1,611.71</td>\n",
       "    </tr>\n",
       "    <tr>\n",
       "      <th>9158</th>\n",
       "      <td>Dogecoin</td>\n",
       "      <td>DOGE-USD</td>\n",
       "      <td>DOGE</td>\n",
       "      <td>2023-01-25</td>\n",
       "      <td>0.09</td>\n",
       "    </tr>\n",
       "    <tr>\n",
       "      <th>9159</th>\n",
       "      <td>Bitcoin</td>\n",
       "      <td>BTC-USD</td>\n",
       "      <td>BTC</td>\n",
       "      <td>2023-01-26</td>\n",
       "      <td>23,032.78</td>\n",
       "    </tr>\n",
       "    <tr>\n",
       "      <th>9160</th>\n",
       "      <td>Etherium</td>\n",
       "      <td>ETH-USD</td>\n",
       "      <td>ETH</td>\n",
       "      <td>2023-01-26</td>\n",
       "      <td>1,603.11</td>\n",
       "    </tr>\n",
       "    <tr>\n",
       "      <th>9161</th>\n",
       "      <td>Dogecoin</td>\n",
       "      <td>DOGE-USD</td>\n",
       "      <td>DOGE</td>\n",
       "      <td>2023-01-26</td>\n",
       "      <td>0.09</td>\n",
       "    </tr>\n",
       "  </tbody>\n",
       "</table>\n",
       "<p>9162 rows × 5 columns</p>\n",
       "</div>"
      ],
      "text/plain": [
       "     CryptoCurrency    Symbol Currency        Date     Value\n",
       "0           Bitcoin   BTC-USD      BTC  2014-09-17    457.33\n",
       "1          Etherium   ETH-USD      ETH  2014-09-17       NaN\n",
       "2          Dogecoin  DOGE-USD     DOGE  2014-09-17       NaN\n",
       "3           Bitcoin   BTC-USD      BTC  2014-09-18    424.44\n",
       "4          Etherium   ETH-USD      ETH  2014-09-18       NaN\n",
       "...             ...       ...      ...         ...       ...\n",
       "9157       Etherium   ETH-USD      ETH  2023-01-25  1,611.71\n",
       "9158       Dogecoin  DOGE-USD     DOGE  2023-01-25      0.09\n",
       "9159        Bitcoin   BTC-USD      BTC  2023-01-26 23,032.78\n",
       "9160       Etherium   ETH-USD      ETH  2023-01-26  1,603.11\n",
       "9161       Dogecoin  DOGE-USD     DOGE  2023-01-26      0.09\n",
       "\n",
       "[9162 rows x 5 columns]"
      ]
     },
     "execution_count": 60,
     "metadata": {},
     "output_type": "execute_result"
    }
   ],
   "source": [
    "## Melt the crypto data \n",
    "## set the var_name  as \"Date\" and the value_name was \"Currency Value\n",
    "\n",
    "long_crypto = pd.melt(crypto, id_vars=id_vars, value_name='Value', var_name='Date')\n",
    "long_crypto"
   ]
  },
  {
   "cell_type": "markdown",
   "id": "7b2561de",
   "metadata": {},
   "source": [
    "## <font color='blue'> Step 2: </font> Converting datetime Column to datetime Type"
   ]
  },
  {
   "cell_type": "code",
   "execution_count": 61,
   "id": "908c1fa3",
   "metadata": {
    "ExecuteTime": {
     "end_time": "2023-08-02T01:24:06.164731Z",
     "start_time": "2023-08-02T01:24:06.150029Z"
    }
   },
   "outputs": [
    {
     "data": {
      "text/html": [
       "<div>\n",
       "<style scoped>\n",
       "    .dataframe tbody tr th:only-of-type {\n",
       "        vertical-align: middle;\n",
       "    }\n",
       "\n",
       "    .dataframe tbody tr th {\n",
       "        vertical-align: top;\n",
       "    }\n",
       "\n",
       "    .dataframe thead th {\n",
       "        text-align: right;\n",
       "    }\n",
       "</style>\n",
       "<table border=\"1\" class=\"dataframe\">\n",
       "  <thead>\n",
       "    <tr style=\"text-align: right;\">\n",
       "      <th></th>\n",
       "      <th>CryptoCurrency</th>\n",
       "      <th>Symbol</th>\n",
       "      <th>Currency</th>\n",
       "      <th>Date</th>\n",
       "      <th>Value</th>\n",
       "    </tr>\n",
       "  </thead>\n",
       "  <tbody>\n",
       "    <tr>\n",
       "      <th>0</th>\n",
       "      <td>Bitcoin</td>\n",
       "      <td>BTC-USD</td>\n",
       "      <td>BTC</td>\n",
       "      <td>2014-09-17</td>\n",
       "      <td>457.33</td>\n",
       "    </tr>\n",
       "    <tr>\n",
       "      <th>1</th>\n",
       "      <td>Etherium</td>\n",
       "      <td>ETH-USD</td>\n",
       "      <td>ETH</td>\n",
       "      <td>2014-09-17</td>\n",
       "      <td>NaN</td>\n",
       "    </tr>\n",
       "    <tr>\n",
       "      <th>2</th>\n",
       "      <td>Dogecoin</td>\n",
       "      <td>DOGE-USD</td>\n",
       "      <td>DOGE</td>\n",
       "      <td>2014-09-17</td>\n",
       "      <td>NaN</td>\n",
       "    </tr>\n",
       "    <tr>\n",
       "      <th>3</th>\n",
       "      <td>Bitcoin</td>\n",
       "      <td>BTC-USD</td>\n",
       "      <td>BTC</td>\n",
       "      <td>2014-09-18</td>\n",
       "      <td>424.44</td>\n",
       "    </tr>\n",
       "    <tr>\n",
       "      <th>4</th>\n",
       "      <td>Etherium</td>\n",
       "      <td>ETH-USD</td>\n",
       "      <td>ETH</td>\n",
       "      <td>2014-09-18</td>\n",
       "      <td>NaN</td>\n",
       "    </tr>\n",
       "    <tr>\n",
       "      <th>...</th>\n",
       "      <td>...</td>\n",
       "      <td>...</td>\n",
       "      <td>...</td>\n",
       "      <td>...</td>\n",
       "      <td>...</td>\n",
       "    </tr>\n",
       "    <tr>\n",
       "      <th>9157</th>\n",
       "      <td>Etherium</td>\n",
       "      <td>ETH-USD</td>\n",
       "      <td>ETH</td>\n",
       "      <td>2023-01-25</td>\n",
       "      <td>1,611.71</td>\n",
       "    </tr>\n",
       "    <tr>\n",
       "      <th>9158</th>\n",
       "      <td>Dogecoin</td>\n",
       "      <td>DOGE-USD</td>\n",
       "      <td>DOGE</td>\n",
       "      <td>2023-01-25</td>\n",
       "      <td>0.09</td>\n",
       "    </tr>\n",
       "    <tr>\n",
       "      <th>9159</th>\n",
       "      <td>Bitcoin</td>\n",
       "      <td>BTC-USD</td>\n",
       "      <td>BTC</td>\n",
       "      <td>2023-01-26</td>\n",
       "      <td>23,032.78</td>\n",
       "    </tr>\n",
       "    <tr>\n",
       "      <th>9160</th>\n",
       "      <td>Etherium</td>\n",
       "      <td>ETH-USD</td>\n",
       "      <td>ETH</td>\n",
       "      <td>2023-01-26</td>\n",
       "      <td>1,603.11</td>\n",
       "    </tr>\n",
       "    <tr>\n",
       "      <th>9161</th>\n",
       "      <td>Dogecoin</td>\n",
       "      <td>DOGE-USD</td>\n",
       "      <td>DOGE</td>\n",
       "      <td>2023-01-26</td>\n",
       "      <td>0.09</td>\n",
       "    </tr>\n",
       "  </tbody>\n",
       "</table>\n",
       "<p>9162 rows × 5 columns</p>\n",
       "</div>"
      ],
      "text/plain": [
       "     CryptoCurrency    Symbol Currency       Date     Value\n",
       "0           Bitcoin   BTC-USD      BTC 2014-09-17    457.33\n",
       "1          Etherium   ETH-USD      ETH 2014-09-17       NaN\n",
       "2          Dogecoin  DOGE-USD     DOGE 2014-09-17       NaN\n",
       "3           Bitcoin   BTC-USD      BTC 2014-09-18    424.44\n",
       "4          Etherium   ETH-USD      ETH 2014-09-18       NaN\n",
       "...             ...       ...      ...        ...       ...\n",
       "9157       Etherium   ETH-USD      ETH 2023-01-25  1,611.71\n",
       "9158       Dogecoin  DOGE-USD     DOGE 2023-01-25      0.09\n",
       "9159        Bitcoin   BTC-USD      BTC 2023-01-26 23,032.78\n",
       "9160       Etherium   ETH-USD      ETH 2023-01-26  1,603.11\n",
       "9161       Dogecoin  DOGE-USD     DOGE 2023-01-26      0.09\n",
       "\n",
       "[9162 rows x 5 columns]"
      ]
     },
     "execution_count": 61,
     "metadata": {},
     "output_type": "execute_result"
    }
   ],
   "source": [
    "## Now make Date column datetime \n",
    "fmt = \"Y-m-d\"\n",
    "long_crypto['Date'] = pd.to_datetime(long_crypto['Date'])\n",
    "long_crypto"
   ]
  },
  {
   "cell_type": "code",
   "execution_count": 62,
   "id": "bdd6aa9b",
   "metadata": {
    "ExecuteTime": {
     "end_time": "2023-08-02T01:24:09.354316Z",
     "start_time": "2023-08-02T01:24:09.342833Z"
    }
   },
   "outputs": [
    {
     "name": "stdout",
     "output_type": "stream",
     "text": [
      "<class 'pandas.core.frame.DataFrame'>\n",
      "RangeIndex: 9162 entries, 0 to 9161\n",
      "Data columns (total 5 columns):\n",
      " #   Column          Non-Null Count  Dtype         \n",
      "---  ------          --------------  -----         \n",
      " 0   CryptoCurrency  9162 non-null   object        \n",
      " 1   Symbol          9162 non-null   object        \n",
      " 2   Currency        9162 non-null   object        \n",
      " 3   Date            9162 non-null   datetime64[ns]\n",
      " 4   Value           6864 non-null   float64       \n",
      "dtypes: datetime64[ns](1), float64(1), object(3)\n",
      "memory usage: 358.0+ KB\n"
     ]
    }
   ],
   "source": [
    "long_crypto.info()"
   ]
  },
  {
   "cell_type": "markdown",
   "id": "e0225249",
   "metadata": {},
   "source": [
    "## <font color='blue'> Step 3: </font> Set datetime as Index"
   ]
  },
  {
   "cell_type": "code",
   "execution_count": 63,
   "id": "f0a901b4",
   "metadata": {
    "ExecuteTime": {
     "end_time": "2023-08-02T01:24:20.525925Z",
     "start_time": "2023-08-02T01:24:20.513499Z"
    }
   },
   "outputs": [
    {
     "data": {
      "text/html": [
       "<div>\n",
       "<style scoped>\n",
       "    .dataframe tbody tr th:only-of-type {\n",
       "        vertical-align: middle;\n",
       "    }\n",
       "\n",
       "    .dataframe tbody tr th {\n",
       "        vertical-align: top;\n",
       "    }\n",
       "\n",
       "    .dataframe thead th {\n",
       "        text-align: right;\n",
       "    }\n",
       "</style>\n",
       "<table border=\"1\" class=\"dataframe\">\n",
       "  <thead>\n",
       "    <tr style=\"text-align: right;\">\n",
       "      <th></th>\n",
       "      <th>CryptoCurrency</th>\n",
       "      <th>Symbol</th>\n",
       "      <th>Currency</th>\n",
       "      <th>Value</th>\n",
       "    </tr>\n",
       "    <tr>\n",
       "      <th>Date</th>\n",
       "      <th></th>\n",
       "      <th></th>\n",
       "      <th></th>\n",
       "      <th></th>\n",
       "    </tr>\n",
       "  </thead>\n",
       "  <tbody>\n",
       "    <tr>\n",
       "      <th>2014-09-17</th>\n",
       "      <td>Bitcoin</td>\n",
       "      <td>BTC-USD</td>\n",
       "      <td>BTC</td>\n",
       "      <td>457.33</td>\n",
       "    </tr>\n",
       "    <tr>\n",
       "      <th>2014-09-17</th>\n",
       "      <td>Etherium</td>\n",
       "      <td>ETH-USD</td>\n",
       "      <td>ETH</td>\n",
       "      <td>NaN</td>\n",
       "    </tr>\n",
       "    <tr>\n",
       "      <th>2014-09-17</th>\n",
       "      <td>Dogecoin</td>\n",
       "      <td>DOGE-USD</td>\n",
       "      <td>DOGE</td>\n",
       "      <td>NaN</td>\n",
       "    </tr>\n",
       "    <tr>\n",
       "      <th>2014-09-18</th>\n",
       "      <td>Bitcoin</td>\n",
       "      <td>BTC-USD</td>\n",
       "      <td>BTC</td>\n",
       "      <td>424.44</td>\n",
       "    </tr>\n",
       "    <tr>\n",
       "      <th>2014-09-18</th>\n",
       "      <td>Etherium</td>\n",
       "      <td>ETH-USD</td>\n",
       "      <td>ETH</td>\n",
       "      <td>NaN</td>\n",
       "    </tr>\n",
       "    <tr>\n",
       "      <th>...</th>\n",
       "      <td>...</td>\n",
       "      <td>...</td>\n",
       "      <td>...</td>\n",
       "      <td>...</td>\n",
       "    </tr>\n",
       "    <tr>\n",
       "      <th>2023-01-25</th>\n",
       "      <td>Etherium</td>\n",
       "      <td>ETH-USD</td>\n",
       "      <td>ETH</td>\n",
       "      <td>1,611.71</td>\n",
       "    </tr>\n",
       "    <tr>\n",
       "      <th>2023-01-25</th>\n",
       "      <td>Dogecoin</td>\n",
       "      <td>DOGE-USD</td>\n",
       "      <td>DOGE</td>\n",
       "      <td>0.09</td>\n",
       "    </tr>\n",
       "    <tr>\n",
       "      <th>2023-01-26</th>\n",
       "      <td>Bitcoin</td>\n",
       "      <td>BTC-USD</td>\n",
       "      <td>BTC</td>\n",
       "      <td>23,032.78</td>\n",
       "    </tr>\n",
       "    <tr>\n",
       "      <th>2023-01-26</th>\n",
       "      <td>Etherium</td>\n",
       "      <td>ETH-USD</td>\n",
       "      <td>ETH</td>\n",
       "      <td>1,603.11</td>\n",
       "    </tr>\n",
       "    <tr>\n",
       "      <th>2023-01-26</th>\n",
       "      <td>Dogecoin</td>\n",
       "      <td>DOGE-USD</td>\n",
       "      <td>DOGE</td>\n",
       "      <td>0.09</td>\n",
       "    </tr>\n",
       "  </tbody>\n",
       "</table>\n",
       "<p>9162 rows × 4 columns</p>\n",
       "</div>"
      ],
      "text/plain": [
       "           CryptoCurrency    Symbol Currency     Value\n",
       "Date                                                  \n",
       "2014-09-17        Bitcoin   BTC-USD      BTC    457.33\n",
       "2014-09-17       Etherium   ETH-USD      ETH       NaN\n",
       "2014-09-17       Dogecoin  DOGE-USD     DOGE       NaN\n",
       "2014-09-18        Bitcoin   BTC-USD      BTC    424.44\n",
       "2014-09-18       Etherium   ETH-USD      ETH       NaN\n",
       "...                   ...       ...      ...       ...\n",
       "2023-01-25       Etherium   ETH-USD      ETH  1,611.71\n",
       "2023-01-25       Dogecoin  DOGE-USD     DOGE      0.09\n",
       "2023-01-26        Bitcoin   BTC-USD      BTC 23,032.78\n",
       "2023-01-26       Etherium   ETH-USD      ETH  1,603.11\n",
       "2023-01-26       Dogecoin  DOGE-USD     DOGE      0.09\n",
       "\n",
       "[9162 rows x 4 columns]"
      ]
     },
     "execution_count": 63,
     "metadata": {},
     "output_type": "execute_result"
    }
   ],
   "source": [
    "## Set Date as index\n",
    "long_crypto = long_crypto.set_index('Date')\n",
    "long_crypto"
   ]
  },
  {
   "cell_type": "code",
   "execution_count": 64,
   "id": "615c84eb",
   "metadata": {
    "ExecuteTime": {
     "end_time": "2023-08-02T01:24:20.923707Z",
     "start_time": "2023-08-02T01:24:20.918178Z"
    }
   },
   "outputs": [
    {
     "data": {
      "text/plain": [
       "DatetimeIndex(['2014-09-17', '2014-09-17', '2014-09-17', '2014-09-18',\n",
       "               '2014-09-18', '2014-09-18', '2014-09-19', '2014-09-19',\n",
       "               '2014-09-19', '2014-09-20',\n",
       "               ...\n",
       "               '2023-01-23', '2023-01-24', '2023-01-24', '2023-01-24',\n",
       "               '2023-01-25', '2023-01-25', '2023-01-25', '2023-01-26',\n",
       "               '2023-01-26', '2023-01-26'],\n",
       "              dtype='datetime64[ns]', name='Date', length=9162, freq=None)"
      ]
     },
     "execution_count": 64,
     "metadata": {},
     "output_type": "execute_result"
    }
   ],
   "source": [
    "long_crypto.index"
   ]
  },
  {
   "cell_type": "markdown",
   "id": "8747d3bd",
   "metadata": {},
   "source": [
    "## <font color='blue'> Step 4: </font> Resample to Desired Frequency"
   ]
  },
  {
   "cell_type": "code",
   "execution_count": 65,
   "id": "1e713028",
   "metadata": {
    "ExecuteTime": {
     "end_time": "2023-08-02T01:25:07.228353Z",
     "start_time": "2023-08-02T01:25:07.199334Z"
    }
   },
   "outputs": [
    {
     "data": {
      "text/html": [
       "<div>\n",
       "<style scoped>\n",
       "    .dataframe tbody tr th:only-of-type {\n",
       "        vertical-align: middle;\n",
       "    }\n",
       "\n",
       "    .dataframe tbody tr th {\n",
       "        vertical-align: top;\n",
       "    }\n",
       "\n",
       "    .dataframe thead th {\n",
       "        text-align: right;\n",
       "    }\n",
       "</style>\n",
       "<table border=\"1\" class=\"dataframe\">\n",
       "  <thead>\n",
       "    <tr style=\"text-align: right;\">\n",
       "      <th></th>\n",
       "      <th></th>\n",
       "      <th>CryptoCurrency</th>\n",
       "      <th>Symbol</th>\n",
       "      <th>Currency</th>\n",
       "      <th>Value</th>\n",
       "    </tr>\n",
       "    <tr>\n",
       "      <th>Currency</th>\n",
       "      <th>Date</th>\n",
       "      <th></th>\n",
       "      <th></th>\n",
       "      <th></th>\n",
       "      <th></th>\n",
       "    </tr>\n",
       "  </thead>\n",
       "  <tbody>\n",
       "    <tr>\n",
       "      <th rowspan=\"5\" valign=\"top\">BTC</th>\n",
       "      <th>2014-09-17</th>\n",
       "      <td>Bitcoin</td>\n",
       "      <td>BTC-USD</td>\n",
       "      <td>BTC</td>\n",
       "      <td>457.33</td>\n",
       "    </tr>\n",
       "    <tr>\n",
       "      <th>2014-09-18</th>\n",
       "      <td>Bitcoin</td>\n",
       "      <td>BTC-USD</td>\n",
       "      <td>BTC</td>\n",
       "      <td>424.44</td>\n",
       "    </tr>\n",
       "    <tr>\n",
       "      <th>2014-09-19</th>\n",
       "      <td>Bitcoin</td>\n",
       "      <td>BTC-USD</td>\n",
       "      <td>BTC</td>\n",
       "      <td>394.80</td>\n",
       "    </tr>\n",
       "    <tr>\n",
       "      <th>2014-09-20</th>\n",
       "      <td>Bitcoin</td>\n",
       "      <td>BTC-USD</td>\n",
       "      <td>BTC</td>\n",
       "      <td>408.90</td>\n",
       "    </tr>\n",
       "    <tr>\n",
       "      <th>2014-09-21</th>\n",
       "      <td>Bitcoin</td>\n",
       "      <td>BTC-USD</td>\n",
       "      <td>BTC</td>\n",
       "      <td>398.82</td>\n",
       "    </tr>\n",
       "    <tr>\n",
       "      <th>...</th>\n",
       "      <th>...</th>\n",
       "      <td>...</td>\n",
       "      <td>...</td>\n",
       "      <td>...</td>\n",
       "      <td>...</td>\n",
       "    </tr>\n",
       "    <tr>\n",
       "      <th rowspan=\"5\" valign=\"top\">ETH</th>\n",
       "      <th>2023-01-22</th>\n",
       "      <td>Etherium</td>\n",
       "      <td>ETH-USD</td>\n",
       "      <td>ETH</td>\n",
       "      <td>1,628.38</td>\n",
       "    </tr>\n",
       "    <tr>\n",
       "      <th>2023-01-23</th>\n",
       "      <td>Etherium</td>\n",
       "      <td>ETH-USD</td>\n",
       "      <td>ETH</td>\n",
       "      <td>1,628.25</td>\n",
       "    </tr>\n",
       "    <tr>\n",
       "      <th>2023-01-24</th>\n",
       "      <td>Etherium</td>\n",
       "      <td>ETH-USD</td>\n",
       "      <td>ETH</td>\n",
       "      <td>1,556.60</td>\n",
       "    </tr>\n",
       "    <tr>\n",
       "      <th>2023-01-25</th>\n",
       "      <td>Etherium</td>\n",
       "      <td>ETH-USD</td>\n",
       "      <td>ETH</td>\n",
       "      <td>1,611.71</td>\n",
       "    </tr>\n",
       "    <tr>\n",
       "      <th>2023-01-26</th>\n",
       "      <td>Etherium</td>\n",
       "      <td>ETH-USD</td>\n",
       "      <td>ETH</td>\n",
       "      <td>1,603.11</td>\n",
       "    </tr>\n",
       "  </tbody>\n",
       "</table>\n",
       "<p>9162 rows × 4 columns</p>\n",
       "</div>"
      ],
      "text/plain": [
       "                    CryptoCurrency   Symbol Currency    Value\n",
       "Currency Date                                                \n",
       "BTC      2014-09-17        Bitcoin  BTC-USD      BTC   457.33\n",
       "         2014-09-18        Bitcoin  BTC-USD      BTC   424.44\n",
       "         2014-09-19        Bitcoin  BTC-USD      BTC   394.80\n",
       "         2014-09-20        Bitcoin  BTC-USD      BTC   408.90\n",
       "         2014-09-21        Bitcoin  BTC-USD      BTC   398.82\n",
       "...                            ...      ...      ...      ...\n",
       "ETH      2023-01-22       Etherium  ETH-USD      ETH 1,628.38\n",
       "         2023-01-23       Etherium  ETH-USD      ETH 1,628.25\n",
       "         2023-01-24       Etherium  ETH-USD      ETH 1,556.60\n",
       "         2023-01-25       Etherium  ETH-USD      ETH 1,611.71\n",
       "         2023-01-26       Etherium  ETH-USD      ETH 1,603.11\n",
       "\n",
       "[9162 rows x 4 columns]"
      ]
     },
     "execution_count": 65,
     "metadata": {},
     "output_type": "execute_result"
    }
   ],
   "source": [
    "# Aggregate by currency and resample as daily. Keep only 'Value' column\n",
    "\n",
    "crypto_ts = long_crypto.groupby('Currency').resample('D').last()\n",
    "crypto_ts"
   ]
  },
  {
   "cell_type": "code",
   "execution_count": 66,
   "id": "a9da0637",
   "metadata": {
    "ExecuteTime": {
     "end_time": "2023-08-02T01:25:17.054970Z",
     "start_time": "2023-08-02T01:25:17.049953Z"
    }
   },
   "outputs": [
    {
     "data": {
      "text/plain": [
       "pandas.core.frame.DataFrame"
      ]
     },
     "execution_count": 66,
     "metadata": {},
     "output_type": "execute_result"
    }
   ],
   "source": [
    "type(crypto_ts)"
   ]
  },
  {
   "cell_type": "code",
   "execution_count": 67,
   "id": "ffeda3c7",
   "metadata": {
    "ExecuteTime": {
     "end_time": "2023-08-02T01:25:17.724268Z",
     "start_time": "2023-08-02T01:25:17.542657Z"
    }
   },
   "outputs": [
    {
     "data": {
      "image/png": "[encoded data removed]",
      "text/plain": [
       "<Figure size 640x480 with 1 Axes>"
      ]
     },
     "metadata": {},
     "output_type": "display_data"
    }
   ],
   "source": [
    "crypto_ts.plot();"
   ]
  },
  {
   "cell_type": "markdown",
   "id": "a4357b31",
   "metadata": {},
   "source": [
    "> What are we seeing?  What do we want to see?"
   ]
  },
  {
   "cell_type": "markdown",
   "id": "cdfea70c",
   "metadata": {},
   "source": [
    "## Unstacking"
   ]
  },
  {
   "cell_type": "code",
   "execution_count": 79,
   "id": "fcc1af99",
   "metadata": {
    "ExecuteTime": {
     "end_time": "2023-08-02T01:27:51.382648Z",
     "start_time": "2023-08-02T01:27:51.374668Z"
    }
   },
   "outputs": [
    {
     "data": {
      "text/plain": [
       "Currency  Date      \n",
       "BTC       2014-09-17     457.33\n",
       "          2014-09-18     424.44\n",
       "          2014-09-19     394.80\n",
       "          2014-09-20     408.90\n",
       "          2014-09-21     398.82\n",
       "                         ...   \n",
       "ETH       2023-01-22   1,628.38\n",
       "          2023-01-23   1,628.25\n",
       "          2023-01-24   1,556.60\n",
       "          2023-01-25   1,611.71\n",
       "          2023-01-26   1,603.11\n",
       "Name: Value, Length: 9162, dtype: float64"
      ]
     },
     "execution_count": 79,
     "metadata": {},
     "output_type": "execute_result"
    }
   ],
   "source": [
    "crypto_ts = crypto_ts['Value']\n",
    "crypto_ts"
   ]
  },
  {
   "cell_type": "code",
   "execution_count": 69,
   "id": "399ce6da",
   "metadata": {
    "ExecuteTime": {
     "end_time": "2023-08-02T01:25:31.702811Z",
     "start_time": "2023-08-02T01:25:31.695799Z"
    }
   },
   "outputs": [
    {
     "data": {
      "text/plain": [
       "MultiIndex([('BTC', '2014-09-17'),\n",
       "            ('BTC', '2014-09-18'),\n",
       "            ('BTC', '2014-09-19'),\n",
       "            ('BTC', '2014-09-20'),\n",
       "            ('BTC', '2014-09-21'),\n",
       "            ('BTC', '2014-09-22'),\n",
       "            ('BTC', '2014-09-23'),\n",
       "            ('BTC', '2014-09-24'),\n",
       "            ('BTC', '2014-09-25'),\n",
       "            ('BTC', '2014-09-26'),\n",
       "            ...\n",
       "            ('ETH', '2023-01-17'),\n",
       "            ('ETH', '2023-01-18'),\n",
       "            ('ETH', '2023-01-19'),\n",
       "            ('ETH', '2023-01-20'),\n",
       "            ('ETH', '2023-01-21'),\n",
       "            ('ETH', '2023-01-22'),\n",
       "            ('ETH', '2023-01-23'),\n",
       "            ('ETH', '2023-01-24'),\n",
       "            ('ETH', '2023-01-25'),\n",
       "            ('ETH', '2023-01-26')],\n",
       "           names=['Currency', 'Date'], length=9162)"
      ]
     },
     "execution_count": 69,
     "metadata": {},
     "output_type": "execute_result"
    }
   ],
   "source": [
    "crypto_ts.index"
   ]
  },
  {
   "cell_type": "code",
   "execution_count": 80,
   "id": "b4fa9bb0",
   "metadata": {
    "ExecuteTime": {
     "end_time": "2023-08-02T01:28:06.803578Z",
     "start_time": "2023-08-02T01:28:06.790605Z"
    },
    "scrolled": false
   },
   "outputs": [
    {
     "data": {
      "text/html": [
       "<div>\n",
       "<style scoped>\n",
       "    .dataframe tbody tr th:only-of-type {\n",
       "        vertical-align: middle;\n",
       "    }\n",
       "\n",
       "    .dataframe tbody tr th {\n",
       "        vertical-align: top;\n",
       "    }\n",
       "\n",
       "    .dataframe thead th {\n",
       "        text-align: right;\n",
       "    }\n",
       "</style>\n",
       "<table border=\"1\" class=\"dataframe\">\n",
       "  <thead>\n",
       "    <tr style=\"text-align: right;\">\n",
       "      <th>Currency</th>\n",
       "      <th>BTC</th>\n",
       "      <th>DOGE</th>\n",
       "      <th>ETH</th>\n",
       "    </tr>\n",
       "    <tr>\n",
       "      <th>Date</th>\n",
       "      <th></th>\n",
       "      <th></th>\n",
       "      <th></th>\n",
       "    </tr>\n",
       "  </thead>\n",
       "  <tbody>\n",
       "    <tr>\n",
       "      <th>2014-09-17</th>\n",
       "      <td>457.33</td>\n",
       "      <td>NaN</td>\n",
       "      <td>NaN</td>\n",
       "    </tr>\n",
       "    <tr>\n",
       "      <th>2014-09-18</th>\n",
       "      <td>424.44</td>\n",
       "      <td>NaN</td>\n",
       "      <td>NaN</td>\n",
       "    </tr>\n",
       "    <tr>\n",
       "      <th>2014-09-19</th>\n",
       "      <td>394.80</td>\n",
       "      <td>NaN</td>\n",
       "      <td>NaN</td>\n",
       "    </tr>\n",
       "    <tr>\n",
       "      <th>2014-09-20</th>\n",
       "      <td>408.90</td>\n",
       "      <td>NaN</td>\n",
       "      <td>NaN</td>\n",
       "    </tr>\n",
       "    <tr>\n",
       "      <th>2014-09-21</th>\n",
       "      <td>398.82</td>\n",
       "      <td>NaN</td>\n",
       "      <td>NaN</td>\n",
       "    </tr>\n",
       "    <tr>\n",
       "      <th>...</th>\n",
       "      <td>...</td>\n",
       "      <td>...</td>\n",
       "      <td>...</td>\n",
       "    </tr>\n",
       "    <tr>\n",
       "      <th>2023-01-22</th>\n",
       "      <td>22,720.42</td>\n",
       "      <td>0.09</td>\n",
       "      <td>1,628.38</td>\n",
       "    </tr>\n",
       "    <tr>\n",
       "      <th>2023-01-23</th>\n",
       "      <td>22,934.43</td>\n",
       "      <td>0.09</td>\n",
       "      <td>1,628.25</td>\n",
       "    </tr>\n",
       "    <tr>\n",
       "      <th>2023-01-24</th>\n",
       "      <td>22,636.47</td>\n",
       "      <td>0.08</td>\n",
       "      <td>1,556.60</td>\n",
       "    </tr>\n",
       "    <tr>\n",
       "      <th>2023-01-25</th>\n",
       "      <td>23,117.86</td>\n",
       "      <td>0.09</td>\n",
       "      <td>1,611.71</td>\n",
       "    </tr>\n",
       "    <tr>\n",
       "      <th>2023-01-26</th>\n",
       "      <td>23,032.78</td>\n",
       "      <td>0.09</td>\n",
       "      <td>1,603.11</td>\n",
       "    </tr>\n",
       "  </tbody>\n",
       "</table>\n",
       "<p>3054 rows × 3 columns</p>\n",
       "</div>"
      ],
      "text/plain": [
       "Currency         BTC  DOGE      ETH\n",
       "Date                               \n",
       "2014-09-17    457.33   NaN      NaN\n",
       "2014-09-18    424.44   NaN      NaN\n",
       "2014-09-19    394.80   NaN      NaN\n",
       "2014-09-20    408.90   NaN      NaN\n",
       "2014-09-21    398.82   NaN      NaN\n",
       "...              ...   ...      ...\n",
       "2023-01-22 22,720.42  0.09 1,628.38\n",
       "2023-01-23 22,934.43  0.09 1,628.25\n",
       "2023-01-24 22,636.47  0.08 1,556.60\n",
       "2023-01-25 23,117.86  0.09 1,611.71\n",
       "2023-01-26 23,032.78  0.09 1,603.11\n",
       "\n",
       "[3054 rows x 3 columns]"
      ]
     },
     "execution_count": 80,
     "metadata": {},
     "output_type": "execute_result"
    }
   ],
   "source": [
    "crypto_unstacked = crypto_ts.unstack(0)\n",
    "crypto_unstacked"
   ]
  },
  {
   "cell_type": "code",
   "execution_count": 81,
   "id": "9acd79fb",
   "metadata": {
    "ExecuteTime": {
     "end_time": "2023-08-02T01:28:27.871637Z",
     "start_time": "2023-08-02T01:28:27.543167Z"
    },
    "scrolled": false
   },
   "outputs": [
    {
     "data": {
      "image/png": "[encoded data removed]",
      "text/plain": [
       "<Figure size 640x480 with 1 Axes>"
      ]
     },
     "metadata": {},
     "output_type": "display_data"
    }
   ],
   "source": [
    "crypto_unstacked.plot();"
   ]
  },
  {
   "cell_type": "markdown",
   "id": "da572491",
   "metadata": {},
   "source": [
    "## Selecting our TS for Resampling Demonstration"
   ]
  },
  {
   "cell_type": "code",
   "execution_count": null,
   "id": "03d9746a",
   "metadata": {
    "ExecuteTime": {
     "end_time": "2023-07-04T00:02:24.950855Z",
     "start_time": "2023-07-04T00:02:24.941877Z"
    }
   },
   "outputs": [],
   "source": [
    "## Select only Bitcoin from 2021 to 2022\n",
    "ts = ##\n",
    "ts"
   ]
  },
  {
   "cell_type": "code",
   "execution_count": null,
   "id": "8dc8b9e9",
   "metadata": {
    "ExecuteTime": {
     "end_time": "2023-07-04T00:02:33.154806Z",
     "start_time": "2023-07-04T00:02:32.929648Z"
    }
   },
   "outputs": [],
   "source": [
    "ts.plot();"
   ]
  },
  {
   "cell_type": "markdown",
   "id": "a4020d95",
   "metadata": {},
   "source": [
    "## Resampling"
   ]
  },
  {
   "cell_type": "code",
   "execution_count": null,
   "id": "c55e4a0c",
   "metadata": {
    "ExecuteTime": {
     "end_time": "2023-07-04T00:02:57.725822Z",
     "start_time": "2023-07-04T00:02:57.719304Z"
    }
   },
   "outputs": [],
   "source": [
    "## Check the index to confirm the current freq\n",
    "ts.index"
   ]
  },
  {
   "cell_type": "markdown",
   "id": "fde6578f",
   "metadata": {},
   "source": [
    "### Resample as Weeks Frequency"
   ]
  },
  {
   "cell_type": "markdown",
   "id": "59a53b45",
   "metadata": {},
   "source": [
    "- We need to look up the correct frequency code for minutes: https://pandas.pydata.org/docs/user_guide/timeseries.html#dateoffset-objects \n",
    "    "
   ]
  },
  {
   "cell_type": "code",
   "execution_count": null,
   "id": "9be4fee3",
   "metadata": {
    "ExecuteTime": {
     "end_time": "2023-07-04T00:03:38.950805Z",
     "start_time": "2023-07-04T00:03:38.941298Z"
    }
   },
   "outputs": [],
   "source": [
    "## Resample as week, keeping last value\n",
    "ts_W = ##\n",
    "ts_W"
   ]
  },
  {
   "cell_type": "code",
   "execution_count": null,
   "id": "3d05ee3f",
   "metadata": {
    "ExecuteTime": {
     "end_time": "2023-07-03T22:06:02.866485Z",
     "start_time": "2023-07-03T22:06:02.859500Z"
    }
   },
   "outputs": [],
   "source": [
    "ts_W.index"
   ]
  },
  {
   "cell_type": "code",
   "execution_count": null,
   "id": "3d25c7e2",
   "metadata": {
    "ExecuteTime": {
     "end_time": "2023-07-05T22:11:41.320090Z",
     "start_time": "2023-07-05T22:11:40.737738Z"
    }
   },
   "outputs": [],
   "source": [
    "## Check day of week for the weekly entries.  What day is it?\n",
    "pd.to_datetime('2021-01-03').day_name()"
   ]
  },
  {
   "cell_type": "markdown",
   "id": "b642ec0d",
   "metadata": {},
   "source": [
    "### Let's resample and plot our ts as daily, weekly, and monthly to compare."
   ]
  },
  {
   "cell_type": "code",
   "execution_count": 82,
   "id": "2bf28673",
   "metadata": {
    "ExecuteTime": {
     "end_time": "2023-08-02T01:28:42.108674Z",
     "start_time": "2023-08-02T01:28:42.087175Z"
    },
    "scrolled": false
   },
   "outputs": [
    {
     "ename": "NameError",
     "evalue": "name 'ts' is not defined",
     "output_type": "error",
     "traceback": [
      "\u001b[1;31m---------------------------------------------------------------------------\u001b[0m",
      "\u001b[1;31mNameError\u001b[0m                                 Traceback (most recent call last)",
      "Cell \u001b[1;32mIn [82], line 5\u001b[0m\n\u001b[0;32m      1\u001b[0m freqs \u001b[38;5;241m=\u001b[39m [\u001b[38;5;124m'\u001b[39m\u001b[38;5;124mD\u001b[39m\u001b[38;5;124m'\u001b[39m,\u001b[38;5;124m'\u001b[39m\u001b[38;5;124mW\u001b[39m\u001b[38;5;124m'\u001b[39m,\u001b[38;5;124m'\u001b[39m\u001b[38;5;124mM\u001b[39m\u001b[38;5;124m'\u001b[39m,\u001b[38;5;124m'\u001b[39m\u001b[38;5;124mQ\u001b[39m\u001b[38;5;124m'\u001b[39m,\u001b[38;5;124m'\u001b[39m\u001b[38;5;124mA\u001b[39m\u001b[38;5;124m'\u001b[39m]\n\u001b[0;32m      4\u001b[0m \u001b[38;5;28;01mfor\u001b[39;00m freq \u001b[38;5;129;01min\u001b[39;00m freqs:\n\u001b[1;32m----> 5\u001b[0m     ax \u001b[38;5;241m=\u001b[39m \u001b[43mts\u001b[49m\u001b[38;5;241m.\u001b[39mplot(label\u001b[38;5;241m=\u001b[39m\u001b[38;5;124m'\u001b[39m\u001b[38;5;124mOriginal\u001b[39m\u001b[38;5;124m'\u001b[39m,  style\u001b[38;5;241m=\u001b[39m\u001b[38;5;124m'\u001b[39m\u001b[38;5;124m.-\u001b[39m\u001b[38;5;124m'\u001b[39m,\n\u001b[0;32m      6\u001b[0m             title\u001b[38;5;241m=\u001b[39m\u001b[38;5;124mf\u001b[39m\u001b[38;5;124m'\u001b[39m\u001b[38;5;124mComparing Resampled Frequencies: \u001b[39m\u001b[38;5;132;01m{\u001b[39;00mfreq\u001b[38;5;132;01m}\u001b[39;00m\u001b[38;5;124m'\u001b[39m);\n\u001b[0;32m      8\u001b[0m     ts_temp \u001b[38;5;241m=\u001b[39m ts\u001b[38;5;241m.\u001b[39mresample(freq)\u001b[38;5;241m.\u001b[39mlast()\n\u001b[0;32m      9\u001b[0m     ts_temp\u001b[38;5;241m.\u001b[39mplot(style\u001b[38;5;241m=\u001b[39m\u001b[38;5;124m'\u001b[39m\u001b[38;5;124mo-\u001b[39m\u001b[38;5;124m'\u001b[39m, label\u001b[38;5;241m=\u001b[39mfreq,ax\u001b[38;5;241m=\u001b[39max)\n",
      "\u001b[1;31mNameError\u001b[0m: name 'ts' is not defined"
     ]
    }
   ],
   "source": [
    "freqs = ['D','W','M','Q','A']\n",
    "\n",
    "\n",
    "for freq in freqs:\n",
    "    ax = ts.plot(label='Original',  style='.-',\n",
    "            title=f'Comparing Resampled Frequencies: {freq}');\n",
    "\n",
    "    ts_temp = ts.resample(freq).last()\n",
    "    ts_temp.plot(style='o-', label=freq,ax=ax)\n",
    "    plt.legend()\n",
    "    plt.show()"
   ]
  },
  {
   "cell_type": "markdown",
   "id": "f33851ce",
   "metadata": {},
   "source": [
    "# Save the new processed data"
   ]
  },
  {
   "cell_type": "code",
   "execution_count": null,
   "id": "3e9e7f32",
   "metadata": {
    "ExecuteTime": {
     "end_time": "2023-07-04T00:06:16.484524Z",
     "start_time": "2023-07-04T00:06:16.479678Z"
    }
   },
   "outputs": [],
   "source": [
    "import os\n",
    "folder = \"Data/FromClass\"\n",
    "os.makedirs(folder, exist_ok=True)"
   ]
  },
  {
   "cell_type": "code",
   "execution_count": null,
   "id": "0e24bc59",
   "metadata": {
    "ExecuteTime": {
     "end_time": "2023-07-04T00:06:18.549181Z",
     "start_time": "2023-07-04T00:06:17.134626Z"
    }
   },
   "outputs": [],
   "source": [
    "df_ts.to_csv(folder + 'SP500-Close-Prices.csv')"
   ]
  },
  {
   "cell_type": "code",
   "execution_count": null,
   "id": "31a6be54",
   "metadata": {
    "ExecuteTime": {
     "end_time": "2023-07-04T00:06:27.884394Z",
     "start_time": "2023-07-04T00:06:27.861291Z"
    }
   },
   "outputs": [],
   "source": [
    "crypto_unstacked.to_csv(folder + 'crypto_currencies.csv')"
   ]
  },
  {
   "cell_type": "markdown",
   "id": "cd5665a5",
   "metadata": {},
   "source": [
    "# Appendix: Using Tick Date Formatters/Locators"
   ]
  },
  {
   "cell_type": "markdown",
   "id": "c1a1b934",
   "metadata": {},
   "source": [
    "- Let's add a minor xtick every 3 months.\n",
    "- Using matplotlib.dates library"
   ]
  },
  {
   "cell_type": "code",
   "execution_count": null,
   "id": "ec47099e",
   "metadata": {
    "ExecuteTime": {
     "end_time": "2023-07-04T00:06:53.394708Z",
     "start_time": "2023-07-04T00:06:53.389721Z"
    }
   },
   "outputs": [],
   "source": [
    "import matplotlib.dates as mdates"
   ]
  },
  {
   "cell_type": "code",
   "execution_count": null,
   "id": "742ff38b",
   "metadata": {
    "ExecuteTime": {
     "end_time": "2023-07-04T00:08:34.018141Z",
     "start_time": "2023-07-04T00:08:34.013439Z"
    }
   },
   "outputs": [],
   "source": [
    "## CREATE ARTISTS FOR MAJOR XTICKS (Years)\n",
    "# Create a year locator\n",
    "loc_major_yr = mdates.YearLocator()\n",
    "# Create a year formatter using 4-digit years\n",
    "fmt_major_yr = mdates.DateFormatter(\"%Y\")\n",
    "\n",
    "\n",
    "## CREATE ARTISTS FOR MINOR XTICKS ( Months)\n",
    "# Create a month locator that will add months at 1,4,7,10\n",
    "loc_minor_3m = mdates.MonthLocator(bymonth=[1,4,7,10])\n",
    "# Createa monthnformatter that will use 3-letter month names\n",
    "fmt_minor_3m = mdates.DateFormatter(\"%b\")"
   ]
  },
  {
   "cell_type": "code",
   "execution_count": null,
   "id": "185ccc7d",
   "metadata": {
    "ExecuteTime": {
     "end_time": "2023-07-04T00:09:23.968214Z",
     "start_time": "2023-07-04T00:09:22.135365Z"
    }
   },
   "outputs": [],
   "source": [
    "## Create our plot and save the ax\n",
    "ax = df_ts.plot()\n",
    "ax.set(ylabel=\"Stock Value\", title='S&P 500')\n",
    "\n",
    "# Set xaxis major locator/formatter\n",
    "ax.xaxis.set_major_locator(loc_major_yr)\n",
    "ax.xaxis.set_major_formatter(fmt_major_yr)\n",
    "\n",
    "\n",
    "# Set xaxis minor locator/formatter\n",
    "ax.xaxis.set_minor_locator(loc_minor_3m)\n",
    "ax.xaxis.set_minor_formatter(fmt_minor_3m)"
   ]
  },
  {
   "cell_type": "code",
   "execution_count": null,
   "id": "4d8c70a8",
   "metadata": {
    "ExecuteTime": {
     "end_time": "2023-07-04T00:11:11.357623Z",
     "start_time": "2023-07-04T00:11:09.503086Z"
    }
   },
   "outputs": [],
   "source": [
    "## Create our plot and save the ax\n",
    "ax = df_ts.plot()\n",
    "ax.set(ylabel=\"Stock Value\", title='S&P 500')\n",
    "\n",
    "# Set xaxis major locator/formatter\n",
    "ax.xaxis.set_major_locator(loc_major_yr)\n",
    "ax.xaxis.set_major_formatter(fmt_major_yr)\n",
    "\n",
    "\n",
    "# Set xaxis minor locator/formatter\n",
    "ax.xaxis.set_minor_locator(loc_minor_3m)\n",
    "ax.xaxis.set_minor_formatter(fmt_minor_3m)\n",
    "\n",
    "\n",
    "\n",
    "\n",
    "\n",
    "# Add gridlines for major xaxis ticks\n",
    "ax.grid(which='major',axis='x',color='k',ls=':',lw=1)\n",
    "\n",
    "## Rotate the major tick years using fig.autofmt_xdate\n",
    "fig = ax.get_figure()\n",
    "fig.autofmt_xdate(which='major', rotation=90, ha='center')"
   ]
  },
  {
   "cell_type": "code",
   "execution_count": null,
   "id": "6c416a03",
   "metadata": {
    "ExecuteTime": {
     "end_time": "2023-07-04T00:11:24.429745Z",
     "start_time": "2023-07-04T00:11:24.422221Z"
    }
   },
   "outputs": [],
   "source": [
    "def format_xdates_stocks(ax):\n",
    "    \n",
    "    # Create a year locator\n",
    "    loc_major_yr = mdates.YearLocator()\n",
    "    # Create a year formatter using 4-digit years\n",
    "    fmt_major_yr = mdates.DateFormatter(\"%Y\")\n",
    "\n",
    "\n",
    "    # Create a month locator that will add months at 1,4,7,10\n",
    "    loc_minor_3m = mdates.MonthLocator(bymonth=[1,4,7,10])\n",
    "    # Createa monthnformatter that will use 3-letter month names\n",
    "    fmt_minor_3m = mdates.DateFormatter(\"%b\")\n",
    "    \n",
    "\n",
    "    \n",
    "    # Set xaxis major locator/formatter\n",
    "    ax.xaxis.set_major_locator(loc_major_yr)\n",
    "    ax.xaxis.set_major_formatter(fmt_major_yr)\n",
    "\n",
    "\n",
    "    # Set xaxis minor locator/formatter\n",
    "    ax.xaxis.set_minor_locator(loc_minor_3m)\n",
    "    ax.xaxis.set_minor_formatter(fmt_minor_3m)\n",
    "\n",
    "    \n",
    "\n",
    "    # Add gridlines for major xaxis ticks\n",
    "    ax.grid(which='major',axis='x',color='k',ls=':',lw=1)\n",
    "\n",
    "    ## Rotate the major tick years using fig.autofmt_xdate\n",
    "    fig = ax.get_figure()\n",
    "    fig.autofmt_xdate(which='major', rotation=90,ha='center')\n",
    "    return fig\n"
   ]
  },
  {
   "cell_type": "code",
   "execution_count": null,
   "id": "01b8691e",
   "metadata": {
    "ExecuteTime": {
     "end_time": "2023-07-04T00:11:36.298115Z",
     "start_time": "2023-07-04T00:11:33.517112Z"
    },
    "scrolled": false
   },
   "outputs": [],
   "source": [
    "ax = df_ts.plot()\n",
    "format_xdates_stocks(ax);"
   ]
  },
  {
   "cell_type": "code",
   "execution_count": null,
   "id": "b41e3807",
   "metadata": {},
   "outputs": [],
   "source": []
  }
 ],
 "metadata": {
  "kernelspec": {
   "display_name": "Python (dojo-env)",
   "language": "python",
   "name": "dojo-env"
  },
  "language_info": {
   "codemirror_mode": {
    "name": "ipython",
    "version": 3
   },
   "file_extension": ".py",
   "mimetype": "text/x-python",
   "name": "python",
   "nbconvert_exporter": "python",
   "pygments_lexer": "ipython3",
   "version": "3.9.15"
  },
  "toc": {
   "base_numbering": 1,
   "nav_menu": {},
   "number_sections": false,
   "sideBar": true,
   "skip_h1_title": false,
   "title_cell": "Table of Contents",
   "title_sidebar": "Contents",
   "toc_cell": false,
   "toc_position": {
    "height": "calc(100% - 180px)",
    "left": "10px",
    "top": "150px",
    "width": "244.361px"
   },
   "toc_section_display": true,
   "toc_window_display": false
  }
 },
 "nbformat": 4,
 "nbformat_minor": 5
}
